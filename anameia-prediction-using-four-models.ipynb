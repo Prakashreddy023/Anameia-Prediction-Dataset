{
 "cells": [
  {
   "cell_type": "code",
   "execution_count": 1,
   "id": "f6e15879",
   "metadata": {
    "_cell_guid": "b1076dfc-b9ad-4769-8c92-a6c4dae69d19",
    "_uuid": "8f2839f25d086af736a60e9eeb907d3b93b6e0e5",
    "execution": {
     "iopub.execute_input": "2024-07-16T14:48:47.467226Z",
     "iopub.status.busy": "2024-07-16T14:48:47.466828Z",
     "iopub.status.idle": "2024-07-16T14:48:48.392262Z",
     "shell.execute_reply": "2024-07-16T14:48:48.390723Z"
    },
    "papermill": {
     "duration": 0.947314,
     "end_time": "2024-07-16T14:48:48.395164",
     "exception": false,
     "start_time": "2024-07-16T14:48:47.447850",
     "status": "completed"
    },
    "tags": []
   },
   "outputs": [
    {
     "name": "stdout",
     "output_type": "stream",
     "text": [
      "/kaggle/input/anaemia-prediction-dataset/expanded_output.csv\n",
      "/kaggle/input/anaemia-prediction-dataset/file_.csv\n",
      "/kaggle/input/anaemia-prediction-dataset/d_output.csv\n"
     ]
    }
   ],
   "source": [
    "# This Python 3 environment comes with many helpful analytics libraries installed\n",
    "# It is defined by the kaggle/python Docker image: https://github.com/kaggle/docker-python\n",
    "# For example, here's several helpful packages to load\n",
    "\n",
    "import numpy as np # linear algebra\n",
    "import pandas as pd # data processing, CSV file I/O (e.g. pd.read_csv)\n",
    "\n",
    "# Input data files are available in the read-only \"../input/\" directory\n",
    "# For example, running this (by clicking run or pressing Shift+Enter) will list all files under the input directory\n",
    "\n",
    "import os\n",
    "for dirname, _, filenames in os.walk('/kaggle/input'):\n",
    "    for filename in filenames:\n",
    "        print(os.path.join(dirname, filename))\n",
    "\n",
    "# You can write up to 20GB to the current directory (/kaggle/working/) that gets preserved as output when you create a version using \"Save & Run All\" \n",
    "# You can also write temporary files to /kaggle/temp/, but they won't be saved outside of the current session"
   ]
  },
  {
   "cell_type": "code",
   "execution_count": 2,
   "id": "d4ec53ba",
   "metadata": {
    "execution": {
     "iopub.execute_input": "2024-07-16T14:48:48.433713Z",
     "iopub.status.busy": "2024-07-16T14:48:48.433149Z",
     "iopub.status.idle": "2024-07-16T14:48:49.806490Z",
     "shell.execute_reply": "2024-07-16T14:48:49.805256Z"
    },
    "papermill": {
     "duration": 1.396408,
     "end_time": "2024-07-16T14:48:49.809063",
     "exception": false,
     "start_time": "2024-07-16T14:48:48.412655",
     "status": "completed"
    },
    "tags": []
   },
   "outputs": [],
   "source": [
    "import seaborn as sns\n",
    "import matplotlib.pyplot as plt\n",
    "%matplotlib inline"
   ]
  },
  {
   "cell_type": "code",
   "execution_count": 3,
   "id": "9d600c1d",
   "metadata": {
    "execution": {
     "iopub.execute_input": "2024-07-16T14:48:49.844843Z",
     "iopub.status.busy": "2024-07-16T14:48:49.844465Z",
     "iopub.status.idle": "2024-07-16T14:48:49.865674Z",
     "shell.execute_reply": "2024-07-16T14:48:49.864597Z"
    },
    "papermill": {
     "duration": 0.042149,
     "end_time": "2024-07-16T14:48:49.868255",
     "exception": false,
     "start_time": "2024-07-16T14:48:49.826106",
     "status": "completed"
    },
    "tags": []
   },
   "outputs": [],
   "source": [
    "df=pd.read_csv('/kaggle/input/anaemia-prediction-dataset/d_output.csv')"
   ]
  },
  {
   "cell_type": "code",
   "execution_count": 4,
   "id": "5d32d5f2",
   "metadata": {
    "execution": {
     "iopub.execute_input": "2024-07-16T14:48:49.904266Z",
     "iopub.status.busy": "2024-07-16T14:48:49.903876Z",
     "iopub.status.idle": "2024-07-16T14:48:49.937241Z",
     "shell.execute_reply": "2024-07-16T14:48:49.936106Z"
    },
    "papermill": {
     "duration": 0.054686,
     "end_time": "2024-07-16T14:48:49.940121",
     "exception": false,
     "start_time": "2024-07-16T14:48:49.885435",
     "status": "completed"
    },
    "tags": []
   },
   "outputs": [
    {
     "data": {
      "text/html": [
       "<div>\n",
       "<style scoped>\n",
       "    .dataframe tbody tr th:only-of-type {\n",
       "        vertical-align: middle;\n",
       "    }\n",
       "\n",
       "    .dataframe tbody tr th {\n",
       "        vertical-align: top;\n",
       "    }\n",
       "\n",
       "    .dataframe thead th {\n",
       "        text-align: right;\n",
       "    }\n",
       "</style>\n",
       "<table border=\"1\" class=\"dataframe\">\n",
       "  <thead>\n",
       "    <tr style=\"text-align: right;\">\n",
       "      <th></th>\n",
       "      <th>Number</th>\n",
       "      <th>Sex</th>\n",
       "      <th>%Red Pixel</th>\n",
       "      <th>%Green pixel</th>\n",
       "      <th>%Blue pixel</th>\n",
       "      <th>Hb</th>\n",
       "      <th>Anaemic</th>\n",
       "    </tr>\n",
       "  </thead>\n",
       "  <tbody>\n",
       "    <tr>\n",
       "      <th>0</th>\n",
       "      <td>1</td>\n",
       "      <td>M</td>\n",
       "      <td>43.170845</td>\n",
       "      <td>30.945626</td>\n",
       "      <td>25.921971</td>\n",
       "      <td>6.252659</td>\n",
       "      <td>Yes</td>\n",
       "    </tr>\n",
       "    <tr>\n",
       "      <th>1</th>\n",
       "      <td>2</td>\n",
       "      <td>F</td>\n",
       "      <td>43.163481</td>\n",
       "      <td>30.306974</td>\n",
       "      <td>26.759843</td>\n",
       "      <td>8.578865</td>\n",
       "      <td>Yes</td>\n",
       "    </tr>\n",
       "    <tr>\n",
       "      <th>2</th>\n",
       "      <td>3</td>\n",
       "      <td>F</td>\n",
       "      <td>46.269997</td>\n",
       "      <td>27.315656</td>\n",
       "      <td>26.028556</td>\n",
       "      <td>9.640936</td>\n",
       "      <td>Yes</td>\n",
       "    </tr>\n",
       "    <tr>\n",
       "      <th>3</th>\n",
       "      <td>4</td>\n",
       "      <td>F</td>\n",
       "      <td>45.054787</td>\n",
       "      <td>30.469816</td>\n",
       "      <td>24.460797</td>\n",
       "      <td>4.794217</td>\n",
       "      <td>Yes</td>\n",
       "    </tr>\n",
       "    <tr>\n",
       "      <th>4</th>\n",
       "      <td>5</td>\n",
       "      <td>M</td>\n",
       "      <td>45.061884</td>\n",
       "      <td>31.218572</td>\n",
       "      <td>24.071714</td>\n",
       "      <td>8.865329</td>\n",
       "      <td>Yes</td>\n",
       "    </tr>\n",
       "    <tr>\n",
       "      <th>...</th>\n",
       "      <td>...</td>\n",
       "      <td>...</td>\n",
       "      <td>...</td>\n",
       "      <td>...</td>\n",
       "      <td>...</td>\n",
       "      <td>...</td>\n",
       "      <td>...</td>\n",
       "    </tr>\n",
       "    <tr>\n",
       "      <th>495</th>\n",
       "      <td>496</td>\n",
       "      <td>F</td>\n",
       "      <td>45.749211</td>\n",
       "      <td>27.630846</td>\n",
       "      <td>26.865636</td>\n",
       "      <td>13.760084</td>\n",
       "      <td>No</td>\n",
       "    </tr>\n",
       "    <tr>\n",
       "      <th>496</th>\n",
       "      <td>497</td>\n",
       "      <td>F</td>\n",
       "      <td>44.929398</td>\n",
       "      <td>30.271085</td>\n",
       "      <td>24.501944</td>\n",
       "      <td>11.588917</td>\n",
       "      <td>No</td>\n",
       "    </tr>\n",
       "    <tr>\n",
       "      <th>497</th>\n",
       "      <td>498</td>\n",
       "      <td>F</td>\n",
       "      <td>43.452565</td>\n",
       "      <td>29.784122</td>\n",
       "      <td>26.764283</td>\n",
       "      <td>12.460060</td>\n",
       "      <td>No</td>\n",
       "    </tr>\n",
       "    <tr>\n",
       "      <th>498</th>\n",
       "      <td>499</td>\n",
       "      <td>F</td>\n",
       "      <td>43.224231</td>\n",
       "      <td>29.742489</td>\n",
       "      <td>26.866944</td>\n",
       "      <td>12.074058</td>\n",
       "      <td>No</td>\n",
       "    </tr>\n",
       "    <tr>\n",
       "      <th>499</th>\n",
       "      <td>500</td>\n",
       "      <td>F</td>\n",
       "      <td>47.353782</td>\n",
       "      <td>26.554186</td>\n",
       "      <td>25.501462</td>\n",
       "      <td>15.207297</td>\n",
       "      <td>No</td>\n",
       "    </tr>\n",
       "  </tbody>\n",
       "</table>\n",
       "<p>500 rows × 7 columns</p>\n",
       "</div>"
      ],
      "text/plain": [
       "     Number Sex  %Red Pixel  %Green pixel  %Blue pixel         Hb Anaemic\n",
       "0         1   M   43.170845     30.945626    25.921971   6.252659     Yes\n",
       "1         2   F   43.163481     30.306974    26.759843   8.578865     Yes\n",
       "2         3   F   46.269997     27.315656    26.028556   9.640936     Yes\n",
       "3         4   F   45.054787     30.469816    24.460797   4.794217     Yes\n",
       "4         5  M    45.061884     31.218572    24.071714   8.865329     Yes\n",
       "..      ...  ..         ...           ...          ...        ...     ...\n",
       "495     496   F   45.749211     27.630846    26.865636  13.760084      No\n",
       "496     497   F   44.929398     30.271085    24.501944  11.588917      No\n",
       "497     498  F    43.452565     29.784122    26.764283  12.460060      No\n",
       "498     499   F   43.224231     29.742489    26.866944  12.074058      No\n",
       "499     500  F    47.353782     26.554186    25.501462  15.207297      No\n",
       "\n",
       "[500 rows x 7 columns]"
      ]
     },
     "execution_count": 4,
     "metadata": {},
     "output_type": "execute_result"
    }
   ],
   "source": [
    "df"
   ]
  },
  {
   "cell_type": "code",
   "execution_count": 5,
   "id": "e8fe6d1d",
   "metadata": {
    "execution": {
     "iopub.execute_input": "2024-07-16T14:48:49.977581Z",
     "iopub.status.busy": "2024-07-16T14:48:49.977154Z",
     "iopub.status.idle": "2024-07-16T14:48:49.988602Z",
     "shell.execute_reply": "2024-07-16T14:48:49.987478Z"
    },
    "papermill": {
     "duration": 0.03312,
     "end_time": "2024-07-16T14:48:49.991086",
     "exception": false,
     "start_time": "2024-07-16T14:48:49.957966",
     "status": "completed"
    },
    "tags": []
   },
   "outputs": [
    {
     "data": {
      "text/plain": [
       "Number          0\n",
       "Sex             0\n",
       "%Red Pixel      0\n",
       "%Green pixel    0\n",
       "%Blue pixel     0\n",
       "Hb              0\n",
       "Anaemic         0\n",
       "dtype: int64"
      ]
     },
     "execution_count": 5,
     "metadata": {},
     "output_type": "execute_result"
    }
   ],
   "source": [
    "df.isnull().sum()"
   ]
  },
  {
   "cell_type": "code",
   "execution_count": 6,
   "id": "25180b99",
   "metadata": {
    "execution": {
     "iopub.execute_input": "2024-07-16T14:48:50.027787Z",
     "iopub.status.busy": "2024-07-16T14:48:50.027390Z",
     "iopub.status.idle": "2024-07-16T14:48:50.047765Z",
     "shell.execute_reply": "2024-07-16T14:48:50.046316Z"
    },
    "papermill": {
     "duration": 0.041615,
     "end_time": "2024-07-16T14:48:50.050171",
     "exception": false,
     "start_time": "2024-07-16T14:48:50.008556",
     "status": "completed"
    },
    "tags": []
   },
   "outputs": [
    {
     "name": "stdout",
     "output_type": "stream",
     "text": [
      "<class 'pandas.core.frame.DataFrame'>\n",
      "RangeIndex: 500 entries, 0 to 499\n",
      "Data columns (total 7 columns):\n",
      " #   Column        Non-Null Count  Dtype  \n",
      "---  ------        --------------  -----  \n",
      " 0   Number        500 non-null    int64  \n",
      " 1   Sex           500 non-null    object \n",
      " 2   %Red Pixel    500 non-null    float64\n",
      " 3   %Green pixel  500 non-null    float64\n",
      " 4   %Blue pixel   500 non-null    float64\n",
      " 5   Hb            500 non-null    float64\n",
      " 6   Anaemic       500 non-null    object \n",
      "dtypes: float64(4), int64(1), object(2)\n",
      "memory usage: 27.5+ KB\n"
     ]
    }
   ],
   "source": [
    "df.info()"
   ]
  },
  {
   "cell_type": "code",
   "execution_count": 7,
   "id": "6590c61b",
   "metadata": {
    "execution": {
     "iopub.execute_input": "2024-07-16T14:48:50.086997Z",
     "iopub.status.busy": "2024-07-16T14:48:50.086587Z",
     "iopub.status.idle": "2024-07-16T14:48:50.115094Z",
     "shell.execute_reply": "2024-07-16T14:48:50.113903Z"
    },
    "papermill": {
     "duration": 0.049869,
     "end_time": "2024-07-16T14:48:50.117658",
     "exception": false,
     "start_time": "2024-07-16T14:48:50.067789",
     "status": "completed"
    },
    "tags": []
   },
   "outputs": [
    {
     "data": {
      "text/html": [
       "<div>\n",
       "<style scoped>\n",
       "    .dataframe tbody tr th:only-of-type {\n",
       "        vertical-align: middle;\n",
       "    }\n",
       "\n",
       "    .dataframe tbody tr th {\n",
       "        vertical-align: top;\n",
       "    }\n",
       "\n",
       "    .dataframe thead th {\n",
       "        text-align: right;\n",
       "    }\n",
       "</style>\n",
       "<table border=\"1\" class=\"dataframe\">\n",
       "  <thead>\n",
       "    <tr style=\"text-align: right;\">\n",
       "      <th></th>\n",
       "      <th>Number</th>\n",
       "      <th>%Red Pixel</th>\n",
       "      <th>%Green pixel</th>\n",
       "      <th>%Blue pixel</th>\n",
       "      <th>Hb</th>\n",
       "    </tr>\n",
       "  </thead>\n",
       "  <tbody>\n",
       "    <tr>\n",
       "      <th>count</th>\n",
       "      <td>500.000000</td>\n",
       "      <td>500.000000</td>\n",
       "      <td>500.000000</td>\n",
       "      <td>500.000000</td>\n",
       "      <td>500.000000</td>\n",
       "    </tr>\n",
       "    <tr>\n",
       "      <th>mean</th>\n",
       "      <td>250.500000</td>\n",
       "      <td>45.030260</td>\n",
       "      <td>29.392138</td>\n",
       "      <td>25.576149</td>\n",
       "      <td>10.938374</td>\n",
       "    </tr>\n",
       "    <tr>\n",
       "      <th>std</th>\n",
       "      <td>144.481833</td>\n",
       "      <td>2.777042</td>\n",
       "      <td>1.585042</td>\n",
       "      <td>1.917043</td>\n",
       "      <td>2.767554</td>\n",
       "    </tr>\n",
       "    <tr>\n",
       "      <th>min</th>\n",
       "      <td>1.000000</td>\n",
       "      <td>38.626133</td>\n",
       "      <td>25.023080</td>\n",
       "      <td>19.495306</td>\n",
       "      <td>4.000000</td>\n",
       "    </tr>\n",
       "    <tr>\n",
       "      <th>25%</th>\n",
       "      <td>125.750000</td>\n",
       "      <td>43.199936</td>\n",
       "      <td>28.311988</td>\n",
       "      <td>24.877544</td>\n",
       "      <td>9.061067</td>\n",
       "    </tr>\n",
       "    <tr>\n",
       "      <th>50%</th>\n",
       "      <td>250.500000</td>\n",
       "      <td>44.906648</td>\n",
       "      <td>29.534431</td>\n",
       "      <td>25.982361</td>\n",
       "      <td>10.018786</td>\n",
       "    </tr>\n",
       "    <tr>\n",
       "      <th>75%</th>\n",
       "      <td>375.250000</td>\n",
       "      <td>46.357891</td>\n",
       "      <td>30.582852</td>\n",
       "      <td>26.754657</td>\n",
       "      <td>13.092756</td>\n",
       "    </tr>\n",
       "    <tr>\n",
       "      <th>max</th>\n",
       "      <td>500.000000</td>\n",
       "      <td>54.776064</td>\n",
       "      <td>32.526455</td>\n",
       "      <td>29.956341</td>\n",
       "      <td>16.508313</td>\n",
       "    </tr>\n",
       "  </tbody>\n",
       "</table>\n",
       "</div>"
      ],
      "text/plain": [
       "           Number  %Red Pixel  %Green pixel  %Blue pixel          Hb\n",
       "count  500.000000  500.000000    500.000000   500.000000  500.000000\n",
       "mean   250.500000   45.030260     29.392138    25.576149   10.938374\n",
       "std    144.481833    2.777042      1.585042     1.917043    2.767554\n",
       "min      1.000000   38.626133     25.023080    19.495306    4.000000\n",
       "25%    125.750000   43.199936     28.311988    24.877544    9.061067\n",
       "50%    250.500000   44.906648     29.534431    25.982361   10.018786\n",
       "75%    375.250000   46.357891     30.582852    26.754657   13.092756\n",
       "max    500.000000   54.776064     32.526455    29.956341   16.508313"
      ]
     },
     "execution_count": 7,
     "metadata": {},
     "output_type": "execute_result"
    }
   ],
   "source": [
    "df.describe()"
   ]
  },
  {
   "cell_type": "code",
   "execution_count": 8,
   "id": "13a598d5",
   "metadata": {
    "execution": {
     "iopub.execute_input": "2024-07-16T14:48:50.154992Z",
     "iopub.status.busy": "2024-07-16T14:48:50.154611Z",
     "iopub.status.idle": "2024-07-16T14:48:50.160887Z",
     "shell.execute_reply": "2024-07-16T14:48:50.159804Z"
    },
    "papermill": {
     "duration": 0.027617,
     "end_time": "2024-07-16T14:48:50.163284",
     "exception": false,
     "start_time": "2024-07-16T14:48:50.135667",
     "status": "completed"
    },
    "tags": []
   },
   "outputs": [],
   "source": [
    "df['Sex'] = df['Sex'].str.strip()"
   ]
  },
  {
   "cell_type": "code",
   "execution_count": 9,
   "id": "d0032c09",
   "metadata": {
    "execution": {
     "iopub.execute_input": "2024-07-16T14:48:50.201140Z",
     "iopub.status.busy": "2024-07-16T14:48:50.200351Z",
     "iopub.status.idle": "2024-07-16T14:48:50.207707Z",
     "shell.execute_reply": "2024-07-16T14:48:50.206659Z"
    },
    "papermill": {
     "duration": 0.028612,
     "end_time": "2024-07-16T14:48:50.209805",
     "exception": false,
     "start_time": "2024-07-16T14:48:50.181193",
     "status": "completed"
    },
    "tags": []
   },
   "outputs": [
    {
     "data": {
      "text/plain": [
       "array(['M', 'F'], dtype=object)"
      ]
     },
     "execution_count": 9,
     "metadata": {},
     "output_type": "execute_result"
    }
   ],
   "source": [
    "df['Sex'].unique()"
   ]
  },
  {
   "cell_type": "code",
   "execution_count": 10,
   "id": "6ce0a80d",
   "metadata": {
    "execution": {
     "iopub.execute_input": "2024-07-16T14:48:50.247944Z",
     "iopub.status.busy": "2024-07-16T14:48:50.247132Z",
     "iopub.status.idle": "2024-07-16T14:48:50.479211Z",
     "shell.execute_reply": "2024-07-16T14:48:50.477875Z"
    },
    "papermill": {
     "duration": 0.254255,
     "end_time": "2024-07-16T14:48:50.481920",
     "exception": false,
     "start_time": "2024-07-16T14:48:50.227665",
     "status": "completed"
    },
    "tags": []
   },
   "outputs": [
    {
     "data": {
      "text/plain": [
       "<Axes: xlabel='Sex', ylabel='count'>"
      ]
     },
     "execution_count": 10,
     "metadata": {},
     "output_type": "execute_result"
    },
    {
     "data": {
      "image/png": "[encoded data removed]",
      "text/plain": [
       "<Figure size 640x480 with 1 Axes>"
      ]
     },
     "metadata": {},
     "output_type": "display_data"
    }
   ],
   "source": [
    "sns.countplot(x='Sex',data=df)"
   ]
  },
  {
   "cell_type": "code",
   "execution_count": 11,
   "id": "7e3c131e",
   "metadata": {
    "execution": {
     "iopub.execute_input": "2024-07-16T14:48:50.520339Z",
     "iopub.status.busy": "2024-07-16T14:48:50.519928Z",
     "iopub.status.idle": "2024-07-16T14:48:50.530134Z",
     "shell.execute_reply": "2024-07-16T14:48:50.528911Z"
    },
    "papermill": {
     "duration": 0.032237,
     "end_time": "2024-07-16T14:48:50.532517",
     "exception": false,
     "start_time": "2024-07-16T14:48:50.500280",
     "status": "completed"
    },
    "tags": []
   },
   "outputs": [],
   "source": [
    "df=pd.get_dummies(df,columns=['Sex'],drop_first=True)"
   ]
  },
  {
   "cell_type": "code",
   "execution_count": 12,
   "id": "d4d09078",
   "metadata": {
    "execution": {
     "iopub.execute_input": "2024-07-16T14:48:50.630847Z",
     "iopub.status.busy": "2024-07-16T14:48:50.630407Z",
     "iopub.status.idle": "2024-07-16T14:48:50.645111Z",
     "shell.execute_reply": "2024-07-16T14:48:50.643951Z"
    },
    "papermill": {
     "duration": 0.037302,
     "end_time": "2024-07-16T14:48:50.647745",
     "exception": false,
     "start_time": "2024-07-16T14:48:50.610443",
     "status": "completed"
    },
    "tags": []
   },
   "outputs": [
    {
     "data": {
      "text/html": [
       "<div>\n",
       "<style scoped>\n",
       "    .dataframe tbody tr th:only-of-type {\n",
       "        vertical-align: middle;\n",
       "    }\n",
       "\n",
       "    .dataframe tbody tr th {\n",
       "        vertical-align: top;\n",
       "    }\n",
       "\n",
       "    .dataframe thead th {\n",
       "        text-align: right;\n",
       "    }\n",
       "</style>\n",
       "<table border=\"1\" class=\"dataframe\">\n",
       "  <thead>\n",
       "    <tr style=\"text-align: right;\">\n",
       "      <th></th>\n",
       "      <th>Number</th>\n",
       "      <th>%Red Pixel</th>\n",
       "      <th>%Green pixel</th>\n",
       "      <th>%Blue pixel</th>\n",
       "      <th>Hb</th>\n",
       "      <th>Anaemic</th>\n",
       "      <th>Sex_M</th>\n",
       "    </tr>\n",
       "  </thead>\n",
       "  <tbody>\n",
       "    <tr>\n",
       "      <th>0</th>\n",
       "      <td>1</td>\n",
       "      <td>43.170845</td>\n",
       "      <td>30.945626</td>\n",
       "      <td>25.921971</td>\n",
       "      <td>6.252659</td>\n",
       "      <td>Yes</td>\n",
       "      <td>True</td>\n",
       "    </tr>\n",
       "    <tr>\n",
       "      <th>1</th>\n",
       "      <td>2</td>\n",
       "      <td>43.163481</td>\n",
       "      <td>30.306974</td>\n",
       "      <td>26.759843</td>\n",
       "      <td>8.578865</td>\n",
       "      <td>Yes</td>\n",
       "      <td>False</td>\n",
       "    </tr>\n",
       "    <tr>\n",
       "      <th>2</th>\n",
       "      <td>3</td>\n",
       "      <td>46.269997</td>\n",
       "      <td>27.315656</td>\n",
       "      <td>26.028556</td>\n",
       "      <td>9.640936</td>\n",
       "      <td>Yes</td>\n",
       "      <td>False</td>\n",
       "    </tr>\n",
       "    <tr>\n",
       "      <th>3</th>\n",
       "      <td>4</td>\n",
       "      <td>45.054787</td>\n",
       "      <td>30.469816</td>\n",
       "      <td>24.460797</td>\n",
       "      <td>4.794217</td>\n",
       "      <td>Yes</td>\n",
       "      <td>False</td>\n",
       "    </tr>\n",
       "    <tr>\n",
       "      <th>4</th>\n",
       "      <td>5</td>\n",
       "      <td>45.061884</td>\n",
       "      <td>31.218572</td>\n",
       "      <td>24.071714</td>\n",
       "      <td>8.865329</td>\n",
       "      <td>Yes</td>\n",
       "      <td>True</td>\n",
       "    </tr>\n",
       "  </tbody>\n",
       "</table>\n",
       "</div>"
      ],
      "text/plain": [
       "   Number  %Red Pixel  %Green pixel  %Blue pixel        Hb Anaemic  Sex_M\n",
       "0       1   43.170845     30.945626    25.921971  6.252659     Yes   True\n",
       "1       2   43.163481     30.306974    26.759843  8.578865     Yes  False\n",
       "2       3   46.269997     27.315656    26.028556  9.640936     Yes  False\n",
       "3       4   45.054787     30.469816    24.460797  4.794217     Yes  False\n",
       "4       5   45.061884     31.218572    24.071714  8.865329     Yes   True"
      ]
     },
     "execution_count": 12,
     "metadata": {},
     "output_type": "execute_result"
    }
   ],
   "source": [
    "df.head()"
   ]
  },
  {
   "cell_type": "code",
   "execution_count": 13,
   "id": "fe3c6d37",
   "metadata": {
    "execution": {
     "iopub.execute_input": "2024-07-16T14:48:50.689225Z",
     "iopub.status.busy": "2024-07-16T14:48:50.688791Z",
     "iopub.status.idle": "2024-07-16T14:48:50.694948Z",
     "shell.execute_reply": "2024-07-16T14:48:50.693822Z"
    },
    "papermill": {
     "duration": 0.029732,
     "end_time": "2024-07-16T14:48:50.697354",
     "exception": false,
     "start_time": "2024-07-16T14:48:50.667622",
     "status": "completed"
    },
    "tags": []
   },
   "outputs": [],
   "source": [
    "df['Sex_M']=df['Sex_M'].astype(int)\n"
   ]
  },
  {
   "cell_type": "code",
   "execution_count": 14,
   "id": "1628af2b",
   "metadata": {
    "execution": {
     "iopub.execute_input": "2024-07-16T14:48:50.735917Z",
     "iopub.status.busy": "2024-07-16T14:48:50.735534Z",
     "iopub.status.idle": "2024-07-16T14:48:50.740360Z",
     "shell.execute_reply": "2024-07-16T14:48:50.739242Z"
    },
    "papermill": {
     "duration": 0.026791,
     "end_time": "2024-07-16T14:48:50.742637",
     "exception": false,
     "start_time": "2024-07-16T14:48:50.715846",
     "status": "completed"
    },
    "tags": []
   },
   "outputs": [],
   "source": [
    "mapping = {'Yes': 1, 'No': 0}"
   ]
  },
  {
   "cell_type": "code",
   "execution_count": 15,
   "id": "a569d3f2",
   "metadata": {
    "execution": {
     "iopub.execute_input": "2024-07-16T14:48:50.781922Z",
     "iopub.status.busy": "2024-07-16T14:48:50.780773Z",
     "iopub.status.idle": "2024-07-16T14:48:50.788015Z",
     "shell.execute_reply": "2024-07-16T14:48:50.786769Z"
    },
    "papermill": {
     "duration": 0.029222,
     "end_time": "2024-07-16T14:48:50.790393",
     "exception": false,
     "start_time": "2024-07-16T14:48:50.761171",
     "status": "completed"
    },
    "tags": []
   },
   "outputs": [
    {
     "name": "stderr",
     "output_type": "stream",
     "text": [
      "/tmp/ipykernel_18/4061680374.py:1: FutureWarning: Downcasting behavior in `replace` is deprecated and will be removed in a future version. To retain the old behavior, explicitly call `result.infer_objects(copy=False)`. To opt-in to the future behavior, set `pd.set_option('future.no_silent_downcasting', True)`\n",
      "  df['Anaemic'] = df['Anaemic'].replace(mapping)\n"
     ]
    }
   ],
   "source": [
    "df['Anaemic'] = df['Anaemic'].replace(mapping)"
   ]
  },
  {
   "cell_type": "code",
   "execution_count": 16,
   "id": "0d83e532",
   "metadata": {
    "execution": {
     "iopub.execute_input": "2024-07-16T14:48:50.831526Z",
     "iopub.status.busy": "2024-07-16T14:48:50.830515Z",
     "iopub.status.idle": "2024-07-16T14:48:50.844093Z",
     "shell.execute_reply": "2024-07-16T14:48:50.842907Z"
    },
    "papermill": {
     "duration": 0.036483,
     "end_time": "2024-07-16T14:48:50.846370",
     "exception": false,
     "start_time": "2024-07-16T14:48:50.809887",
     "status": "completed"
    },
    "tags": []
   },
   "outputs": [
    {
     "data": {
      "text/html": [
       "<div>\n",
       "<style scoped>\n",
       "    .dataframe tbody tr th:only-of-type {\n",
       "        vertical-align: middle;\n",
       "    }\n",
       "\n",
       "    .dataframe tbody tr th {\n",
       "        vertical-align: top;\n",
       "    }\n",
       "\n",
       "    .dataframe thead th {\n",
       "        text-align: right;\n",
       "    }\n",
       "</style>\n",
       "<table border=\"1\" class=\"dataframe\">\n",
       "  <thead>\n",
       "    <tr style=\"text-align: right;\">\n",
       "      <th></th>\n",
       "      <th>Number</th>\n",
       "      <th>%Red Pixel</th>\n",
       "      <th>%Green pixel</th>\n",
       "      <th>%Blue pixel</th>\n",
       "      <th>Hb</th>\n",
       "      <th>Anaemic</th>\n",
       "      <th>Sex_M</th>\n",
       "    </tr>\n",
       "  </thead>\n",
       "  <tbody>\n",
       "    <tr>\n",
       "      <th>0</th>\n",
       "      <td>1</td>\n",
       "      <td>43.170845</td>\n",
       "      <td>30.945626</td>\n",
       "      <td>25.921971</td>\n",
       "      <td>6.252659</td>\n",
       "      <td>1</td>\n",
       "      <td>1</td>\n",
       "    </tr>\n",
       "    <tr>\n",
       "      <th>1</th>\n",
       "      <td>2</td>\n",
       "      <td>43.163481</td>\n",
       "      <td>30.306974</td>\n",
       "      <td>26.759843</td>\n",
       "      <td>8.578865</td>\n",
       "      <td>1</td>\n",
       "      <td>0</td>\n",
       "    </tr>\n",
       "    <tr>\n",
       "      <th>2</th>\n",
       "      <td>3</td>\n",
       "      <td>46.269997</td>\n",
       "      <td>27.315656</td>\n",
       "      <td>26.028556</td>\n",
       "      <td>9.640936</td>\n",
       "      <td>1</td>\n",
       "      <td>0</td>\n",
       "    </tr>\n",
       "    <tr>\n",
       "      <th>3</th>\n",
       "      <td>4</td>\n",
       "      <td>45.054787</td>\n",
       "      <td>30.469816</td>\n",
       "      <td>24.460797</td>\n",
       "      <td>4.794217</td>\n",
       "      <td>1</td>\n",
       "      <td>0</td>\n",
       "    </tr>\n",
       "    <tr>\n",
       "      <th>4</th>\n",
       "      <td>5</td>\n",
       "      <td>45.061884</td>\n",
       "      <td>31.218572</td>\n",
       "      <td>24.071714</td>\n",
       "      <td>8.865329</td>\n",
       "      <td>1</td>\n",
       "      <td>1</td>\n",
       "    </tr>\n",
       "  </tbody>\n",
       "</table>\n",
       "</div>"
      ],
      "text/plain": [
       "   Number  %Red Pixel  %Green pixel  %Blue pixel        Hb  Anaemic  Sex_M\n",
       "0       1   43.170845     30.945626    25.921971  6.252659        1      1\n",
       "1       2   43.163481     30.306974    26.759843  8.578865        1      0\n",
       "2       3   46.269997     27.315656    26.028556  9.640936        1      0\n",
       "3       4   45.054787     30.469816    24.460797  4.794217        1      0\n",
       "4       5   45.061884     31.218572    24.071714  8.865329        1      1"
      ]
     },
     "execution_count": 16,
     "metadata": {},
     "output_type": "execute_result"
    }
   ],
   "source": [
    "df.head()"
   ]
  },
  {
   "cell_type": "code",
   "execution_count": 17,
   "id": "beb8df5a",
   "metadata": {
    "execution": {
     "iopub.execute_input": "2024-07-16T14:48:50.886270Z",
     "iopub.status.busy": "2024-07-16T14:48:50.885881Z",
     "iopub.status.idle": "2024-07-16T14:48:50.891851Z",
     "shell.execute_reply": "2024-07-16T14:48:50.890679Z"
    },
    "papermill": {
     "duration": 0.029046,
     "end_time": "2024-07-16T14:48:50.894253",
     "exception": false,
     "start_time": "2024-07-16T14:48:50.865207",
     "status": "completed"
    },
    "tags": []
   },
   "outputs": [],
   "source": [
    "crr=df.corr()"
   ]
  },
  {
   "cell_type": "code",
   "execution_count": 18,
   "id": "d55e4c0d",
   "metadata": {
    "execution": {
     "iopub.execute_input": "2024-07-16T14:48:50.933875Z",
     "iopub.status.busy": "2024-07-16T14:48:50.933461Z",
     "iopub.status.idle": "2024-07-16T14:48:51.475974Z",
     "shell.execute_reply": "2024-07-16T14:48:51.474814Z"
    },
    "papermill": {
     "duration": 0.565319,
     "end_time": "2024-07-16T14:48:51.478679",
     "exception": false,
     "start_time": "2024-07-16T14:48:50.913360",
     "status": "completed"
    },
    "tags": []
   },
   "outputs": [
    {
     "data": {
      "text/plain": [
       "<Axes: >"
      ]
     },
     "execution_count": 18,
     "metadata": {},
     "output_type": "execute_result"
    },
    {
     "data": {
      "image/png": "[encoded data removed]",
      "text/plain": [
       "<Figure size 640x480 with 2 Axes>"
      ]
     },
     "metadata": {},
     "output_type": "display_data"
    }
   ],
   "source": [
    "sns.heatmap(crr,cmap='coolwarm',annot=True)"
   ]
  },
  {
   "cell_type": "code",
   "execution_count": 19,
   "id": "a21a7190",
   "metadata": {
    "execution": {
     "iopub.execute_input": "2024-07-16T14:48:51.521505Z",
     "iopub.status.busy": "2024-07-16T14:48:51.520457Z",
     "iopub.status.idle": "2024-07-16T14:48:58.824952Z",
     "shell.execute_reply": "2024-07-16T14:48:58.823579Z"
    },
    "papermill": {
     "duration": 7.328563,
     "end_time": "2024-07-16T14:48:58.827434",
     "exception": false,
     "start_time": "2024-07-16T14:48:51.498871",
     "status": "completed"
    },
    "tags": []
   },
   "outputs": [
    {
     "data": {
      "text/plain": [
       "<Axes: xlabel='%Red Pixel', ylabel='count'>"
      ]
     },
     "execution_count": 19,
     "metadata": {},
     "output_type": "execute_result"
    },
    {
     "data": {
      "image/png": "[encoded data removed]",
      "text/plain": [
       "<Figure size 640x480 with 1 Axes>"
      ]
     },
     "metadata": {},
     "output_type": "display_data"
    }
   ],
   "source": [
    "sns.countplot(x='%Red Pixel',data=df,hue='Anaemic',palette='rainbow')"
   ]
  },
  {
   "cell_type": "code",
   "execution_count": 20,
   "id": "4915aefc",
   "metadata": {
    "execution": {
     "iopub.execute_input": "2024-07-16T14:48:58.870449Z",
     "iopub.status.busy": "2024-07-16T14:48:58.870012Z",
     "iopub.status.idle": "2024-07-16T14:48:59.085890Z",
     "shell.execute_reply": "2024-07-16T14:48:59.084515Z"
    },
    "papermill": {
     "duration": 0.240711,
     "end_time": "2024-07-16T14:48:59.088705",
     "exception": false,
     "start_time": "2024-07-16T14:48:58.847994",
     "status": "completed"
    },
    "tags": []
   },
   "outputs": [
    {
     "data": {
      "text/plain": [
       "<Axes: xlabel='Anaemic', ylabel='count'>"
      ]
     },
     "execution_count": 20,
     "metadata": {},
     "output_type": "execute_result"
    },
    {
     "data": {
      "image/png": "[encoded data removed]",
      "text/plain": [
       "<Figure size 640x480 with 1 Axes>"
      ]
     },
     "metadata": {},
     "output_type": "display_data"
    }
   ],
   "source": [
    "sns.countplot(x='Anaemic',data=df,hue='Sex_M')"
   ]
  },
  {
   "cell_type": "markdown",
   "id": "c8e926dd",
   "metadata": {
    "papermill": {
     "duration": 0.021305,
     "end_time": "2024-07-16T14:48:59.131513",
     "exception": false,
     "start_time": "2024-07-16T14:48:59.110208",
     "status": "completed"
    },
    "tags": []
   },
   "source": [
    "# Linear Regression"
   ]
  },
  {
   "cell_type": "markdown",
   "id": "03204191",
   "metadata": {
    "papermill": {
     "duration": 0.022535,
     "end_time": "2024-07-16T14:48:59.176659",
     "exception": false,
     "start_time": "2024-07-16T14:48:59.154124",
     "status": "completed"
    },
    "tags": []
   },
   "source": [
    "## Train Test Split"
   ]
  },
  {
   "cell_type": "code",
   "execution_count": 21,
   "id": "4f6ddb02",
   "metadata": {
    "execution": {
     "iopub.execute_input": "2024-07-16T14:48:59.221379Z",
     "iopub.status.busy": "2024-07-16T14:48:59.220983Z",
     "iopub.status.idle": "2024-07-16T14:48:59.500272Z",
     "shell.execute_reply": "2024-07-16T14:48:59.499193Z"
    },
    "papermill": {
     "duration": 0.304912,
     "end_time": "2024-07-16T14:48:59.502853",
     "exception": false,
     "start_time": "2024-07-16T14:48:59.197941",
     "status": "completed"
    },
    "tags": []
   },
   "outputs": [],
   "source": [
    "from sklearn.model_selection import train_test_split"
   ]
  },
  {
   "cell_type": "code",
   "execution_count": 22,
   "id": "fbfced33",
   "metadata": {
    "execution": {
     "iopub.execute_input": "2024-07-16T14:48:59.546018Z",
     "iopub.status.busy": "2024-07-16T14:48:59.545596Z",
     "iopub.status.idle": "2024-07-16T14:48:59.552124Z",
     "shell.execute_reply": "2024-07-16T14:48:59.550979Z"
    },
    "papermill": {
     "duration": 0.030835,
     "end_time": "2024-07-16T14:48:59.554453",
     "exception": false,
     "start_time": "2024-07-16T14:48:59.523618",
     "status": "completed"
    },
    "tags": []
   },
   "outputs": [],
   "source": [
    "X=df.drop('Anaemic',axis=1)\n",
    "y=df['Anaemic']"
   ]
  },
  {
   "cell_type": "code",
   "execution_count": 23,
   "id": "bf77f994",
   "metadata": {
    "execution": {
     "iopub.execute_input": "2024-07-16T14:48:59.599089Z",
     "iopub.status.busy": "2024-07-16T14:48:59.598682Z",
     "iopub.status.idle": "2024-07-16T14:48:59.608597Z",
     "shell.execute_reply": "2024-07-16T14:48:59.607327Z"
    },
    "papermill": {
     "duration": 0.035229,
     "end_time": "2024-07-16T14:48:59.610895",
     "exception": false,
     "start_time": "2024-07-16T14:48:59.575666",
     "status": "completed"
    },
    "tags": []
   },
   "outputs": [],
   "source": [
    "X_train,X_test,y_train,y_test=train_test_split(X,y,test_size=0.30,random_state=101)"
   ]
  },
  {
   "cell_type": "markdown",
   "id": "93dd0f92",
   "metadata": {
    "papermill": {
     "duration": 0.020496,
     "end_time": "2024-07-16T14:48:59.652952",
     "exception": false,
     "start_time": "2024-07-16T14:48:59.632456",
     "status": "completed"
    },
    "tags": []
   },
   "source": [
    "## Training Model"
   ]
  },
  {
   "cell_type": "code",
   "execution_count": 24,
   "id": "a774c4f3",
   "metadata": {
    "execution": {
     "iopub.execute_input": "2024-07-16T14:48:59.697233Z",
     "iopub.status.busy": "2024-07-16T14:48:59.696277Z",
     "iopub.status.idle": "2024-07-16T14:48:59.794004Z",
     "shell.execute_reply": "2024-07-16T14:48:59.792718Z"
    },
    "papermill": {
     "duration": 0.12295,
     "end_time": "2024-07-16T14:48:59.796733",
     "exception": false,
     "start_time": "2024-07-16T14:48:59.673783",
     "status": "completed"
    },
    "tags": []
   },
   "outputs": [],
   "source": [
    "from sklearn.linear_model import LogisticRegression "
   ]
  },
  {
   "cell_type": "code",
   "execution_count": 25,
   "id": "8882c4bb",
   "metadata": {
    "execution": {
     "iopub.execute_input": "2024-07-16T14:48:59.842143Z",
     "iopub.status.busy": "2024-07-16T14:48:59.840993Z",
     "iopub.status.idle": "2024-07-16T14:48:59.846361Z",
     "shell.execute_reply": "2024-07-16T14:48:59.845280Z"
    },
    "papermill": {
     "duration": 0.030138,
     "end_time": "2024-07-16T14:48:59.848868",
     "exception": false,
     "start_time": "2024-07-16T14:48:59.818730",
     "status": "completed"
    },
    "tags": []
   },
   "outputs": [],
   "source": [
    "lr=LogisticRegression()"
   ]
  },
  {
   "cell_type": "code",
   "execution_count": 26,
   "id": "d42eacd8",
   "metadata": {
    "execution": {
     "iopub.execute_input": "2024-07-16T14:48:59.893035Z",
     "iopub.status.busy": "2024-07-16T14:48:59.892203Z",
     "iopub.status.idle": "2024-07-16T14:48:59.922718Z",
     "shell.execute_reply": "2024-07-16T14:48:59.921548Z"
    },
    "papermill": {
     "duration": 0.055244,
     "end_time": "2024-07-16T14:48:59.925080",
     "exception": false,
     "start_time": "2024-07-16T14:48:59.869836",
     "status": "completed"
    },
    "tags": []
   },
   "outputs": [
    {
     "data": {
      "text/html": [
       "<style>#sk-container-id-1 {color: black;background-color: white;}#sk-container-id-1 pre{padding: 0;}#sk-container-id-1 div.sk-toggleable {background-color: white;}#sk-container-id-1 label.sk-toggleable__label {cursor: pointer;display: block;width: 100%;margin-bottom: 0;padding: 0.3em;box-sizing: border-box;text-align: center;}#sk-container-id-1 label.sk-toggleable__label-arrow:before {content: \"▸\";float: left;margin-right: 0.25em;color: #696969;}#sk-container-id-1 label.sk-toggleable__label-arrow:hover:before {color: black;}#sk-container-id-1 div.sk-estimator:hover label.sk-toggleable__label-arrow:before {color: black;}#sk-container-id-1 div.sk-toggleable__content {max-height: 0;max-width: 0;overflow: hidden;text-align: left;background-color: #f0f8ff;}#sk-container-id-1 div.sk-toggleable__content pre {margin: 0.2em;color: black;border-radius: 0.25em;background-color: #f0f8ff;}#sk-container-id-1 input.sk-toggleable__control:checked~div.sk-toggleable__content {max-height: 200px;max-width: 100%;overflow: auto;}#sk-container-id-1 input.sk-toggleable__control:checked~label.sk-toggleable__label-arrow:before {content: \"▾\";}#sk-container-id-1 div.sk-estimator input.sk-toggleable__control:checked~label.sk-toggleable__label {background-color: #d4ebff;}#sk-container-id-1 div.sk-label input.sk-toggleable__control:checked~label.sk-toggleable__label {background-color: #d4ebff;}#sk-container-id-1 input.sk-hidden--visually {border: 0;clip: rect(1px 1px 1px 1px);clip: rect(1px, 1px, 1px, 1px);height: 1px;margin: -1px;overflow: hidden;padding: 0;position: absolute;width: 1px;}#sk-container-id-1 div.sk-estimator {font-family: monospace;background-color: #f0f8ff;border: 1px dotted black;border-radius: 0.25em;box-sizing: border-box;margin-bottom: 0.5em;}#sk-container-id-1 div.sk-estimator:hover {background-color: #d4ebff;}#sk-container-id-1 div.sk-parallel-item::after {content: \"\";width: 100%;border-bottom: 1px solid gray;flex-grow: 1;}#sk-container-id-1 div.sk-label:hover label.sk-toggleable__label {background-color: #d4ebff;}#sk-container-id-1 div.sk-serial::before {content: \"\";position: absolute;border-left: 1px solid gray;box-sizing: border-box;top: 0;bottom: 0;left: 50%;z-index: 0;}#sk-container-id-1 div.sk-serial {display: flex;flex-direction: column;align-items: center;background-color: white;padding-right: 0.2em;padding-left: 0.2em;position: relative;}#sk-container-id-1 div.sk-item {position: relative;z-index: 1;}#sk-container-id-1 div.sk-parallel {display: flex;align-items: stretch;justify-content: center;background-color: white;position: relative;}#sk-container-id-1 div.sk-item::before, #sk-container-id-1 div.sk-parallel-item::before {content: \"\";position: absolute;border-left: 1px solid gray;box-sizing: border-box;top: 0;bottom: 0;left: 50%;z-index: -1;}#sk-container-id-1 div.sk-parallel-item {display: flex;flex-direction: column;z-index: 1;position: relative;background-color: white;}#sk-container-id-1 div.sk-parallel-item:first-child::after {align-self: flex-end;width: 50%;}#sk-container-id-1 div.sk-parallel-item:last-child::after {align-self: flex-start;width: 50%;}#sk-container-id-1 div.sk-parallel-item:only-child::after {width: 0;}#sk-container-id-1 div.sk-dashed-wrapped {border: 1px dashed gray;margin: 0 0.4em 0.5em 0.4em;box-sizing: border-box;padding-bottom: 0.4em;background-color: white;}#sk-container-id-1 div.sk-label label {font-family: monospace;font-weight: bold;display: inline-block;line-height: 1.2em;}#sk-container-id-1 div.sk-label-container {text-align: center;}#sk-container-id-1 div.sk-container {/* jupyter's `normalize.less` sets `[hidden] { display: none; }` but bootstrap.min.css set `[hidden] { display: none !important; }` so we also need the `!important` here to be able to override the default hidden behavior on the sphinx rendered scikit-learn.org. See: https://github.com/scikit-learn/scikit-learn/issues/21755 */display: inline-block !important;position: relative;}#sk-container-id-1 div.sk-text-repr-fallback {display: none;}</style><div id=\"sk-container-id-1\" class=\"sk-top-container\"><div class=\"sk-text-repr-fallback\"><pre>LogisticRegression()</pre><b>In a Jupyter environment, please rerun this cell to show the HTML representation or trust the notebook. <br />On GitHub, the HTML representation is unable to render, please try loading this page with nbviewer.org.</b></div><div class=\"sk-container\" hidden><div class=\"sk-item\"><div class=\"sk-estimator sk-toggleable\"><input class=\"sk-toggleable__control sk-hidden--visually\" id=\"sk-estimator-id-1\" type=\"checkbox\" checked><label for=\"sk-estimator-id-1\" class=\"sk-toggleable__label sk-toggleable__label-arrow\">LogisticRegression</label><div class=\"sk-toggleable__content\"><pre>LogisticRegression()</pre></div></div></div></div></div>"
      ],
      "text/plain": [
       "LogisticRegression()"
      ]
     },
     "execution_count": 26,
     "metadata": {},
     "output_type": "execute_result"
    }
   ],
   "source": [
    "lr.fit(X_train,y_train)"
   ]
  },
  {
   "cell_type": "markdown",
   "id": "f11208b7",
   "metadata": {
    "papermill": {
     "duration": 0.020715,
     "end_time": "2024-07-16T14:48:59.967169",
     "exception": false,
     "start_time": "2024-07-16T14:48:59.946454",
     "status": "completed"
    },
    "tags": []
   },
   "source": [
    "## Prediction & Evaluation"
   ]
  },
  {
   "cell_type": "code",
   "execution_count": 27,
   "id": "85c422bf",
   "metadata": {
    "execution": {
     "iopub.execute_input": "2024-07-16T14:49:00.011002Z",
     "iopub.status.busy": "2024-07-16T14:49:00.010618Z",
     "iopub.status.idle": "2024-07-16T14:49:00.017941Z",
     "shell.execute_reply": "2024-07-16T14:49:00.016805Z"
    },
    "papermill": {
     "duration": 0.031897,
     "end_time": "2024-07-16T14:49:00.020172",
     "exception": false,
     "start_time": "2024-07-16T14:48:59.988275",
     "status": "completed"
    },
    "tags": []
   },
   "outputs": [],
   "source": [
    "prediction_lr=lr.predict(X_test)"
   ]
  },
  {
   "cell_type": "code",
   "execution_count": 28,
   "id": "d3e1367d",
   "metadata": {
    "execution": {
     "iopub.execute_input": "2024-07-16T14:49:00.065205Z",
     "iopub.status.busy": "2024-07-16T14:49:00.064021Z",
     "iopub.status.idle": "2024-07-16T14:49:00.069565Z",
     "shell.execute_reply": "2024-07-16T14:49:00.068384Z"
    },
    "papermill": {
     "duration": 0.030185,
     "end_time": "2024-07-16T14:49:00.071973",
     "exception": false,
     "start_time": "2024-07-16T14:49:00.041788",
     "status": "completed"
    },
    "tags": []
   },
   "outputs": [],
   "source": [
    "from sklearn.metrics import classification_report,confusion_matrix"
   ]
  },
  {
   "cell_type": "code",
   "execution_count": 29,
   "id": "b1780912",
   "metadata": {
    "execution": {
     "iopub.execute_input": "2024-07-16T14:49:00.116587Z",
     "iopub.status.busy": "2024-07-16T14:49:00.116155Z",
     "iopub.status.idle": "2024-07-16T14:49:00.133954Z",
     "shell.execute_reply": "2024-07-16T14:49:00.132561Z"
    },
    "papermill": {
     "duration": 0.042885,
     "end_time": "2024-07-16T14:49:00.136532",
     "exception": false,
     "start_time": "2024-07-16T14:49:00.093647",
     "status": "completed"
    },
    "tags": []
   },
   "outputs": [
    {
     "name": "stdout",
     "output_type": "stream",
     "text": [
      "              precision    recall  f1-score   support\n",
      "\n",
      "           0       1.00      0.98      0.99        64\n",
      "           1       0.99      1.00      0.99        86\n",
      "\n",
      "    accuracy                           0.99       150\n",
      "   macro avg       0.99      0.99      0.99       150\n",
      "weighted avg       0.99      0.99      0.99       150\n",
      "\n",
      "[[63  1]\n",
      " [ 0 86]]\n"
     ]
    }
   ],
   "source": [
    "print(classification_report(y_test,prediction_lr))\n",
    "print(confusion_matrix(y_test,prediction_lr))"
   ]
  },
  {
   "cell_type": "markdown",
   "id": "39547ab2",
   "metadata": {
    "papermill": {
     "duration": 0.021535,
     "end_time": "2024-07-16T14:49:00.180826",
     "exception": false,
     "start_time": "2024-07-16T14:49:00.159291",
     "status": "completed"
    },
    "tags": []
   },
   "source": [
    "# KNN"
   ]
  },
  {
   "cell_type": "markdown",
   "id": "bff83802",
   "metadata": {
    "papermill": {
     "duration": 0.020874,
     "end_time": "2024-07-16T14:49:00.223078",
     "exception": false,
     "start_time": "2024-07-16T14:49:00.202204",
     "status": "completed"
    },
    "tags": []
   },
   "source": [
    "## Standization of Variables"
   ]
  },
  {
   "cell_type": "code",
   "execution_count": 30,
   "id": "f639c9bc",
   "metadata": {
    "execution": {
     "iopub.execute_input": "2024-07-16T14:49:00.267480Z",
     "iopub.status.busy": "2024-07-16T14:49:00.267050Z",
     "iopub.status.idle": "2024-07-16T14:49:00.272221Z",
     "shell.execute_reply": "2024-07-16T14:49:00.270935Z"
    },
    "papermill": {
     "duration": 0.0303,
     "end_time": "2024-07-16T14:49:00.274711",
     "exception": false,
     "start_time": "2024-07-16T14:49:00.244411",
     "status": "completed"
    },
    "tags": []
   },
   "outputs": [],
   "source": [
    "from sklearn.preprocessing import StandardScaler"
   ]
  },
  {
   "cell_type": "code",
   "execution_count": 31,
   "id": "dd872ad8",
   "metadata": {
    "execution": {
     "iopub.execute_input": "2024-07-16T14:49:00.320448Z",
     "iopub.status.busy": "2024-07-16T14:49:00.319905Z",
     "iopub.status.idle": "2024-07-16T14:49:00.325164Z",
     "shell.execute_reply": "2024-07-16T14:49:00.324081Z"
    },
    "papermill": {
     "duration": 0.030877,
     "end_time": "2024-07-16T14:49:00.327528",
     "exception": false,
     "start_time": "2024-07-16T14:49:00.296651",
     "status": "completed"
    },
    "tags": []
   },
   "outputs": [],
   "source": [
    "scale=StandardScaler()\n"
   ]
  },
  {
   "cell_type": "code",
   "execution_count": 32,
   "id": "69692693",
   "metadata": {
    "execution": {
     "iopub.execute_input": "2024-07-16T14:49:00.373359Z",
     "iopub.status.busy": "2024-07-16T14:49:00.372942Z",
     "iopub.status.idle": "2024-07-16T14:49:00.385044Z",
     "shell.execute_reply": "2024-07-16T14:49:00.383837Z"
    },
    "papermill": {
     "duration": 0.037855,
     "end_time": "2024-07-16T14:49:00.387788",
     "exception": false,
     "start_time": "2024-07-16T14:49:00.349933",
     "status": "completed"
    },
    "tags": []
   },
   "outputs": [
    {
     "data": {
      "text/html": [
       "<style>#sk-container-id-2 {color: black;background-color: white;}#sk-container-id-2 pre{padding: 0;}#sk-container-id-2 div.sk-toggleable {background-color: white;}#sk-container-id-2 label.sk-toggleable__label {cursor: pointer;display: block;width: 100%;margin-bottom: 0;padding: 0.3em;box-sizing: border-box;text-align: center;}#sk-container-id-2 label.sk-toggleable__label-arrow:before {content: \"▸\";float: left;margin-right: 0.25em;color: #696969;}#sk-container-id-2 label.sk-toggleable__label-arrow:hover:before {color: black;}#sk-container-id-2 div.sk-estimator:hover label.sk-toggleable__label-arrow:before {color: black;}#sk-container-id-2 div.sk-toggleable__content {max-height: 0;max-width: 0;overflow: hidden;text-align: left;background-color: #f0f8ff;}#sk-container-id-2 div.sk-toggleable__content pre {margin: 0.2em;color: black;border-radius: 0.25em;background-color: #f0f8ff;}#sk-container-id-2 input.sk-toggleable__control:checked~div.sk-toggleable__content {max-height: 200px;max-width: 100%;overflow: auto;}#sk-container-id-2 input.sk-toggleable__control:checked~label.sk-toggleable__label-arrow:before {content: \"▾\";}#sk-container-id-2 div.sk-estimator input.sk-toggleable__control:checked~label.sk-toggleable__label {background-color: #d4ebff;}#sk-container-id-2 div.sk-label input.sk-toggleable__control:checked~label.sk-toggleable__label {background-color: #d4ebff;}#sk-container-id-2 input.sk-hidden--visually {border: 0;clip: rect(1px 1px 1px 1px);clip: rect(1px, 1px, 1px, 1px);height: 1px;margin: -1px;overflow: hidden;padding: 0;position: absolute;width: 1px;}#sk-container-id-2 div.sk-estimator {font-family: monospace;background-color: #f0f8ff;border: 1px dotted black;border-radius: 0.25em;box-sizing: border-box;margin-bottom: 0.5em;}#sk-container-id-2 div.sk-estimator:hover {background-color: #d4ebff;}#sk-container-id-2 div.sk-parallel-item::after {content: \"\";width: 100%;border-bottom: 1px solid gray;flex-grow: 1;}#sk-container-id-2 div.sk-label:hover label.sk-toggleable__label {background-color: #d4ebff;}#sk-container-id-2 div.sk-serial::before {content: \"\";position: absolute;border-left: 1px solid gray;box-sizing: border-box;top: 0;bottom: 0;left: 50%;z-index: 0;}#sk-container-id-2 div.sk-serial {display: flex;flex-direction: column;align-items: center;background-color: white;padding-right: 0.2em;padding-left: 0.2em;position: relative;}#sk-container-id-2 div.sk-item {position: relative;z-index: 1;}#sk-container-id-2 div.sk-parallel {display: flex;align-items: stretch;justify-content: center;background-color: white;position: relative;}#sk-container-id-2 div.sk-item::before, #sk-container-id-2 div.sk-parallel-item::before {content: \"\";position: absolute;border-left: 1px solid gray;box-sizing: border-box;top: 0;bottom: 0;left: 50%;z-index: -1;}#sk-container-id-2 div.sk-parallel-item {display: flex;flex-direction: column;z-index: 1;position: relative;background-color: white;}#sk-container-id-2 div.sk-parallel-item:first-child::after {align-self: flex-end;width: 50%;}#sk-container-id-2 div.sk-parallel-item:last-child::after {align-self: flex-start;width: 50%;}#sk-container-id-2 div.sk-parallel-item:only-child::after {width: 0;}#sk-container-id-2 div.sk-dashed-wrapped {border: 1px dashed gray;margin: 0 0.4em 0.5em 0.4em;box-sizing: border-box;padding-bottom: 0.4em;background-color: white;}#sk-container-id-2 div.sk-label label {font-family: monospace;font-weight: bold;display: inline-block;line-height: 1.2em;}#sk-container-id-2 div.sk-label-container {text-align: center;}#sk-container-id-2 div.sk-container {/* jupyter's `normalize.less` sets `[hidden] { display: none; }` but bootstrap.min.css set `[hidden] { display: none !important; }` so we also need the `!important` here to be able to override the default hidden behavior on the sphinx rendered scikit-learn.org. See: https://github.com/scikit-learn/scikit-learn/issues/21755 */display: inline-block !important;position: relative;}#sk-container-id-2 div.sk-text-repr-fallback {display: none;}</style><div id=\"sk-container-id-2\" class=\"sk-top-container\"><div class=\"sk-text-repr-fallback\"><pre>StandardScaler()</pre><b>In a Jupyter environment, please rerun this cell to show the HTML representation or trust the notebook. <br />On GitHub, the HTML representation is unable to render, please try loading this page with nbviewer.org.</b></div><div class=\"sk-container\" hidden><div class=\"sk-item\"><div class=\"sk-estimator sk-toggleable\"><input class=\"sk-toggleable__control sk-hidden--visually\" id=\"sk-estimator-id-2\" type=\"checkbox\" checked><label for=\"sk-estimator-id-2\" class=\"sk-toggleable__label sk-toggleable__label-arrow\">StandardScaler</label><div class=\"sk-toggleable__content\"><pre>StandardScaler()</pre></div></div></div></div></div>"
      ],
      "text/plain": [
       "StandardScaler()"
      ]
     },
     "execution_count": 32,
     "metadata": {},
     "output_type": "execute_result"
    }
   ],
   "source": [
    "scale.fit(df.drop('Anaemic',axis=1))"
   ]
  },
  {
   "cell_type": "code",
   "execution_count": 33,
   "id": "65b28633",
   "metadata": {
    "execution": {
     "iopub.execute_input": "2024-07-16T14:49:00.433120Z",
     "iopub.status.busy": "2024-07-16T14:49:00.432689Z",
     "iopub.status.idle": "2024-07-16T14:49:00.441157Z",
     "shell.execute_reply": "2024-07-16T14:49:00.439916Z"
    },
    "papermill": {
     "duration": 0.03397,
     "end_time": "2024-07-16T14:49:00.443492",
     "exception": false,
     "start_time": "2024-07-16T14:49:00.409522",
     "status": "completed"
    },
    "tags": []
   },
   "outputs": [],
   "source": [
    "scaled_values=scale.transform(df.drop('Anaemic',axis=1))"
   ]
  },
  {
   "cell_type": "code",
   "execution_count": 34,
   "id": "13983531",
   "metadata": {
    "execution": {
     "iopub.execute_input": "2024-07-16T14:49:00.488756Z",
     "iopub.status.busy": "2024-07-16T14:49:00.488326Z",
     "iopub.status.idle": "2024-07-16T14:49:00.496027Z",
     "shell.execute_reply": "2024-07-16T14:49:00.494971Z"
    },
    "papermill": {
     "duration": 0.033352,
     "end_time": "2024-07-16T14:49:00.498391",
     "exception": false,
     "start_time": "2024-07-16T14:49:00.465039",
     "status": "completed"
    },
    "tags": []
   },
   "outputs": [
    {
     "data": {
      "text/plain": [
       "array([[-1.72859016, -0.67023701,  0.98107405,  0.18057403, -1.69478481,\n",
       "         1.08784471],\n",
       "       [-1.72166195, -0.67289161,  0.57774605,  0.61807649, -0.85341505,\n",
       "        -0.91924885],\n",
       "       [-1.71473373,  0.44687082, -1.3113605 ,  0.23622818, -0.46927244,\n",
       "        -0.91924885],\n",
       "       ...,\n",
       "       [ 1.71473373, -0.5686896 ,  0.2475494 ,  0.62039483,  0.55038143,\n",
       "        -0.91924885],\n",
       "       [ 1.72166195, -0.65099394,  0.22125696,  0.67400045,  0.41076777,\n",
       "        -0.91924885],\n",
       "       [ 1.72859016,  0.83752748, -1.79225178, -0.03899856,  1.54403462,\n",
       "        -0.91924885]])"
      ]
     },
     "execution_count": 34,
     "metadata": {},
     "output_type": "execute_result"
    }
   ],
   "source": [
    "scaled_values"
   ]
  },
  {
   "cell_type": "code",
   "execution_count": 35,
   "id": "d21b1d8f",
   "metadata": {
    "execution": {
     "iopub.execute_input": "2024-07-16T14:49:00.544575Z",
     "iopub.status.busy": "2024-07-16T14:49:00.543795Z",
     "iopub.status.idle": "2024-07-16T14:49:00.549255Z",
     "shell.execute_reply": "2024-07-16T14:49:00.547897Z"
    },
    "papermill": {
     "duration": 0.031036,
     "end_time": "2024-07-16T14:49:00.551796",
     "exception": false,
     "start_time": "2024-07-16T14:49:00.520760",
     "status": "completed"
    },
    "tags": []
   },
   "outputs": [],
   "source": [
    "scaled_df=pd.DataFrame(scaled_values,columns=df.columns[:-1])"
   ]
  },
  {
   "cell_type": "markdown",
   "id": "acdeeefd",
   "metadata": {
    "papermill": {
     "duration": 0.022275,
     "end_time": "2024-07-16T14:49:00.596047",
     "exception": false,
     "start_time": "2024-07-16T14:49:00.573772",
     "status": "completed"
    },
    "tags": []
   },
   "source": [
    "## Train Test Split"
   ]
  },
  {
   "cell_type": "code",
   "execution_count": 36,
   "id": "180e0d48",
   "metadata": {
    "execution": {
     "iopub.execute_input": "2024-07-16T14:49:00.641329Z",
     "iopub.status.busy": "2024-07-16T14:49:00.640872Z",
     "iopub.status.idle": "2024-07-16T14:49:00.646366Z",
     "shell.execute_reply": "2024-07-16T14:49:00.645054Z"
    },
    "papermill": {
     "duration": 0.03134,
     "end_time": "2024-07-16T14:49:00.649100",
     "exception": false,
     "start_time": "2024-07-16T14:49:00.617760",
     "status": "completed"
    },
    "tags": []
   },
   "outputs": [],
   "source": [
    "X=scaled_df\n",
    "y=df['Anaemic']"
   ]
  },
  {
   "cell_type": "code",
   "execution_count": 37,
   "id": "6df7244e",
   "metadata": {
    "execution": {
     "iopub.execute_input": "2024-07-16T14:49:00.694704Z",
     "iopub.status.busy": "2024-07-16T14:49:00.694216Z",
     "iopub.status.idle": "2024-07-16T14:49:00.702146Z",
     "shell.execute_reply": "2024-07-16T14:49:00.700798Z"
    },
    "papermill": {
     "duration": 0.033474,
     "end_time": "2024-07-16T14:49:00.704527",
     "exception": false,
     "start_time": "2024-07-16T14:49:00.671053",
     "status": "completed"
    },
    "tags": []
   },
   "outputs": [],
   "source": [
    "X_train,X_test,y_train,y_test=train_test_split(X,y,test_size=0.30,random_state=101)"
   ]
  },
  {
   "cell_type": "markdown",
   "id": "d9311a14",
   "metadata": {
    "papermill": {
     "duration": 0.022245,
     "end_time": "2024-07-16T14:49:00.749887",
     "exception": false,
     "start_time": "2024-07-16T14:49:00.727642",
     "status": "completed"
    },
    "tags": []
   },
   "source": [
    "## Model Training"
   ]
  },
  {
   "cell_type": "code",
   "execution_count": 38,
   "id": "0b84a6dd",
   "metadata": {
    "execution": {
     "iopub.execute_input": "2024-07-16T14:49:00.797447Z",
     "iopub.status.busy": "2024-07-16T14:49:00.797052Z",
     "iopub.status.idle": "2024-07-16T14:49:00.867862Z",
     "shell.execute_reply": "2024-07-16T14:49:00.866703Z"
    },
    "papermill": {
     "duration": 0.098139,
     "end_time": "2024-07-16T14:49:00.870730",
     "exception": false,
     "start_time": "2024-07-16T14:49:00.772591",
     "status": "completed"
    },
    "tags": []
   },
   "outputs": [],
   "source": [
    "from sklearn.neighbors import KNeighborsClassifier"
   ]
  },
  {
   "cell_type": "code",
   "execution_count": 39,
   "id": "f71e2b03",
   "metadata": {
    "execution": {
     "iopub.execute_input": "2024-07-16T14:49:00.917128Z",
     "iopub.status.busy": "2024-07-16T14:49:00.916736Z",
     "iopub.status.idle": "2024-07-16T14:49:00.921841Z",
     "shell.execute_reply": "2024-07-16T14:49:00.920643Z"
    },
    "papermill": {
     "duration": 0.031244,
     "end_time": "2024-07-16T14:49:00.924267",
     "exception": false,
     "start_time": "2024-07-16T14:49:00.893023",
     "status": "completed"
    },
    "tags": []
   },
   "outputs": [],
   "source": [
    "knn=KNeighborsClassifier(n_neighbors=1)"
   ]
  },
  {
   "cell_type": "code",
   "execution_count": 40,
   "id": "a7f157de",
   "metadata": {
    "execution": {
     "iopub.execute_input": "2024-07-16T14:49:00.970284Z",
     "iopub.status.busy": "2024-07-16T14:49:00.969893Z",
     "iopub.status.idle": "2024-07-16T14:49:00.981294Z",
     "shell.execute_reply": "2024-07-16T14:49:00.980038Z"
    },
    "papermill": {
     "duration": 0.037783,
     "end_time": "2024-07-16T14:49:00.983766",
     "exception": false,
     "start_time": "2024-07-16T14:49:00.945983",
     "status": "completed"
    },
    "tags": []
   },
   "outputs": [
    {
     "data": {
      "text/html": [
       "<style>#sk-container-id-3 {color: black;background-color: white;}#sk-container-id-3 pre{padding: 0;}#sk-container-id-3 div.sk-toggleable {background-color: white;}#sk-container-id-3 label.sk-toggleable__label {cursor: pointer;display: block;width: 100%;margin-bottom: 0;padding: 0.3em;box-sizing: border-box;text-align: center;}#sk-container-id-3 label.sk-toggleable__label-arrow:before {content: \"▸\";float: left;margin-right: 0.25em;color: #696969;}#sk-container-id-3 label.sk-toggleable__label-arrow:hover:before {color: black;}#sk-container-id-3 div.sk-estimator:hover label.sk-toggleable__label-arrow:before {color: black;}#sk-container-id-3 div.sk-toggleable__content {max-height: 0;max-width: 0;overflow: hidden;text-align: left;background-color: #f0f8ff;}#sk-container-id-3 div.sk-toggleable__content pre {margin: 0.2em;color: black;border-radius: 0.25em;background-color: #f0f8ff;}#sk-container-id-3 input.sk-toggleable__control:checked~div.sk-toggleable__content {max-height: 200px;max-width: 100%;overflow: auto;}#sk-container-id-3 input.sk-toggleable__control:checked~label.sk-toggleable__label-arrow:before {content: \"▾\";}#sk-container-id-3 div.sk-estimator input.sk-toggleable__control:checked~label.sk-toggleable__label {background-color: #d4ebff;}#sk-container-id-3 div.sk-label input.sk-toggleable__control:checked~label.sk-toggleable__label {background-color: #d4ebff;}#sk-container-id-3 input.sk-hidden--visually {border: 0;clip: rect(1px 1px 1px 1px);clip: rect(1px, 1px, 1px, 1px);height: 1px;margin: -1px;overflow: hidden;padding: 0;position: absolute;width: 1px;}#sk-container-id-3 div.sk-estimator {font-family: monospace;background-color: #f0f8ff;border: 1px dotted black;border-radius: 0.25em;box-sizing: border-box;margin-bottom: 0.5em;}#sk-container-id-3 div.sk-estimator:hover {background-color: #d4ebff;}#sk-container-id-3 div.sk-parallel-item::after {content: \"\";width: 100%;border-bottom: 1px solid gray;flex-grow: 1;}#sk-container-id-3 div.sk-label:hover label.sk-toggleable__label {background-color: #d4ebff;}#sk-container-id-3 div.sk-serial::before {content: \"\";position: absolute;border-left: 1px solid gray;box-sizing: border-box;top: 0;bottom: 0;left: 50%;z-index: 0;}#sk-container-id-3 div.sk-serial {display: flex;flex-direction: column;align-items: center;background-color: white;padding-right: 0.2em;padding-left: 0.2em;position: relative;}#sk-container-id-3 div.sk-item {position: relative;z-index: 1;}#sk-container-id-3 div.sk-parallel {display: flex;align-items: stretch;justify-content: center;background-color: white;position: relative;}#sk-container-id-3 div.sk-item::before, #sk-container-id-3 div.sk-parallel-item::before {content: \"\";position: absolute;border-left: 1px solid gray;box-sizing: border-box;top: 0;bottom: 0;left: 50%;z-index: -1;}#sk-container-id-3 div.sk-parallel-item {display: flex;flex-direction: column;z-index: 1;position: relative;background-color: white;}#sk-container-id-3 div.sk-parallel-item:first-child::after {align-self: flex-end;width: 50%;}#sk-container-id-3 div.sk-parallel-item:last-child::after {align-self: flex-start;width: 50%;}#sk-container-id-3 div.sk-parallel-item:only-child::after {width: 0;}#sk-container-id-3 div.sk-dashed-wrapped {border: 1px dashed gray;margin: 0 0.4em 0.5em 0.4em;box-sizing: border-box;padding-bottom: 0.4em;background-color: white;}#sk-container-id-3 div.sk-label label {font-family: monospace;font-weight: bold;display: inline-block;line-height: 1.2em;}#sk-container-id-3 div.sk-label-container {text-align: center;}#sk-container-id-3 div.sk-container {/* jupyter's `normalize.less` sets `[hidden] { display: none; }` but bootstrap.min.css set `[hidden] { display: none !important; }` so we also need the `!important` here to be able to override the default hidden behavior on the sphinx rendered scikit-learn.org. See: https://github.com/scikit-learn/scikit-learn/issues/21755 */display: inline-block !important;position: relative;}#sk-container-id-3 div.sk-text-repr-fallback {display: none;}</style><div id=\"sk-container-id-3\" class=\"sk-top-container\"><div class=\"sk-text-repr-fallback\"><pre>KNeighborsClassifier(n_neighbors=1)</pre><b>In a Jupyter environment, please rerun this cell to show the HTML representation or trust the notebook. <br />On GitHub, the HTML representation is unable to render, please try loading this page with nbviewer.org.</b></div><div class=\"sk-container\" hidden><div class=\"sk-item\"><div class=\"sk-estimator sk-toggleable\"><input class=\"sk-toggleable__control sk-hidden--visually\" id=\"sk-estimator-id-3\" type=\"checkbox\" checked><label for=\"sk-estimator-id-3\" class=\"sk-toggleable__label sk-toggleable__label-arrow\">KNeighborsClassifier</label><div class=\"sk-toggleable__content\"><pre>KNeighborsClassifier(n_neighbors=1)</pre></div></div></div></div></div>"
      ],
      "text/plain": [
       "KNeighborsClassifier(n_neighbors=1)"
      ]
     },
     "execution_count": 40,
     "metadata": {},
     "output_type": "execute_result"
    }
   ],
   "source": [
    "knn.fit(X_train,y_train)"
   ]
  },
  {
   "cell_type": "markdown",
   "id": "3c0b4b22",
   "metadata": {
    "papermill": {
     "duration": 0.021846,
     "end_time": "2024-07-16T14:49:01.027579",
     "exception": false,
     "start_time": "2024-07-16T14:49:01.005733",
     "status": "completed"
    },
    "tags": []
   },
   "source": [
    "## Prediction & Evaluation"
   ]
  },
  {
   "cell_type": "code",
   "execution_count": 41,
   "id": "68e5ac82",
   "metadata": {
    "execution": {
     "iopub.execute_input": "2024-07-16T14:49:01.073272Z",
     "iopub.status.busy": "2024-07-16T14:49:01.072877Z",
     "iopub.status.idle": "2024-07-16T14:49:01.091082Z",
     "shell.execute_reply": "2024-07-16T14:49:01.089866Z"
    },
    "papermill": {
     "duration": 0.044007,
     "end_time": "2024-07-16T14:49:01.093693",
     "exception": false,
     "start_time": "2024-07-16T14:49:01.049686",
     "status": "completed"
    },
    "tags": []
   },
   "outputs": [],
   "source": [
    "prediction_knn=knn.predict(X_test)"
   ]
  },
  {
   "cell_type": "code",
   "execution_count": 42,
   "id": "47d819f5",
   "metadata": {
    "execution": {
     "iopub.execute_input": "2024-07-16T14:49:01.139451Z",
     "iopub.status.busy": "2024-07-16T14:49:01.139037Z",
     "iopub.status.idle": "2024-07-16T14:49:01.157428Z",
     "shell.execute_reply": "2024-07-16T14:49:01.154514Z"
    },
    "papermill": {
     "duration": 0.044481,
     "end_time": "2024-07-16T14:49:01.160113",
     "exception": false,
     "start_time": "2024-07-16T14:49:01.115632",
     "status": "completed"
    },
    "tags": []
   },
   "outputs": [
    {
     "name": "stdout",
     "output_type": "stream",
     "text": [
      "              precision    recall  f1-score   support\n",
      "\n",
      "           0       1.00      0.95      0.98        64\n",
      "           1       0.97      1.00      0.98        86\n",
      "\n",
      "    accuracy                           0.98       150\n",
      "   macro avg       0.98      0.98      0.98       150\n",
      "weighted avg       0.98      0.98      0.98       150\n",
      "\n",
      "[[61  3]\n",
      " [ 0 86]]\n"
     ]
    }
   ],
   "source": [
    "print(classification_report(y_test,prediction_knn))\n",
    "print(confusion_matrix(y_test,prediction_knn))"
   ]
  },
  {
   "cell_type": "markdown",
   "id": "2904c9fd",
   "metadata": {
    "papermill": {
     "duration": 0.021317,
     "end_time": "2024-07-16T14:49:01.204422",
     "exception": false,
     "start_time": "2024-07-16T14:49:01.183105",
     "status": "completed"
    },
    "tags": []
   },
   "source": [
    "## Choosing K-Value"
   ]
  },
  {
   "cell_type": "code",
   "execution_count": 43,
   "id": "a18f9da6",
   "metadata": {
    "execution": {
     "iopub.execute_input": "2024-07-16T14:49:01.249711Z",
     "iopub.status.busy": "2024-07-16T14:49:01.249225Z",
     "iopub.status.idle": "2024-07-16T14:49:01.770865Z",
     "shell.execute_reply": "2024-07-16T14:49:01.769508Z"
    },
    "papermill": {
     "duration": 0.547534,
     "end_time": "2024-07-16T14:49:01.773570",
     "exception": false,
     "start_time": "2024-07-16T14:49:01.226036",
     "status": "completed"
    },
    "tags": []
   },
   "outputs": [],
   "source": [
    "error_rate=[]\n",
    "for i in range(1,40):\n",
    "    knn=KNeighborsClassifier(n_neighbors=i)\n",
    "    knn.fit(X_train,y_train)\n",
    "    prediction_knn=knn.predict(X_test)\n",
    "    error_rate.append(np.mean(y_test!=prediction_knn))\n"
   ]
  },
  {
   "cell_type": "code",
   "execution_count": 44,
   "id": "8b85022e",
   "metadata": {
    "execution": {
     "iopub.execute_input": "2024-07-16T14:49:01.820257Z",
     "iopub.status.busy": "2024-07-16T14:49:01.819881Z",
     "iopub.status.idle": "2024-07-16T14:49:02.069883Z",
     "shell.execute_reply": "2024-07-16T14:49:02.068421Z"
    },
    "papermill": {
     "duration": 0.276255,
     "end_time": "2024-07-16T14:49:02.072487",
     "exception": false,
     "start_time": "2024-07-16T14:49:01.796232",
     "status": "completed"
    },
    "tags": []
   },
   "outputs": [
    {
     "data": {
      "text/plain": [
       "[<matplotlib.lines.Line2D at 0x7fd2625ce380>]"
      ]
     },
     "execution_count": 44,
     "metadata": {},
     "output_type": "execute_result"
    },
    {
     "data": {
      "image/png": "[encoded data removed]",
      "text/plain": [
       "<Figure size 640x480 with 1 Axes>"
      ]
     },
     "metadata": {},
     "output_type": "display_data"
    }
   ],
   "source": [
    "plt.plot(range(1,40),error_rate,ls='--',marker='o')"
   ]
  },
  {
   "cell_type": "markdown",
   "id": "b926ad1f",
   "metadata": {
    "papermill": {
     "duration": 0.022781,
     "end_time": "2024-07-16T14:49:02.118242",
     "exception": false,
     "start_time": "2024-07-16T14:49:02.095461",
     "status": "completed"
    },
    "tags": []
   },
   "source": [
    "## here the Graph plot also shows that 1 is best value for K for good accuracy."
   ]
  },
  {
   "cell_type": "markdown",
   "id": "f7137e22",
   "metadata": {
    "papermill": {
     "duration": 0.02422,
     "end_time": "2024-07-16T14:49:02.165833",
     "exception": false,
     "start_time": "2024-07-16T14:49:02.141613",
     "status": "completed"
    },
    "tags": []
   },
   "source": [
    "# Decision Trees & Random Forest"
   ]
  },
  {
   "cell_type": "markdown",
   "id": "2ac142a7",
   "metadata": {
    "papermill": {
     "duration": 0.023538,
     "end_time": "2024-07-16T14:49:02.212837",
     "exception": false,
     "start_time": "2024-07-16T14:49:02.189299",
     "status": "completed"
    },
    "tags": []
   },
   "source": [
    "## Train Test Split"
   ]
  },
  {
   "cell_type": "code",
   "execution_count": 45,
   "id": "619e456b",
   "metadata": {
    "execution": {
     "iopub.execute_input": "2024-07-16T14:49:02.261375Z",
     "iopub.status.busy": "2024-07-16T14:49:02.260952Z",
     "iopub.status.idle": "2024-07-16T14:49:02.270363Z",
     "shell.execute_reply": "2024-07-16T14:49:02.269130Z"
    },
    "papermill": {
     "duration": 0.036037,
     "end_time": "2024-07-16T14:49:02.272862",
     "exception": false,
     "start_time": "2024-07-16T14:49:02.236825",
     "status": "completed"
    },
    "tags": []
   },
   "outputs": [],
   "source": [
    "X=df.drop('Anaemic',axis=1)\n",
    "y=df['Anaemic']\n",
    "X_train,X_test,y_train,y_test=train_test_split(X,y,test_size=0.30,random_state=101)"
   ]
  },
  {
   "cell_type": "markdown",
   "id": "e296abac",
   "metadata": {
    "papermill": {
     "duration": 0.022467,
     "end_time": "2024-07-16T14:49:02.318135",
     "exception": false,
     "start_time": "2024-07-16T14:49:02.295668",
     "status": "completed"
    },
    "tags": []
   },
   "source": [
    "## Training Model"
   ]
  },
  {
   "cell_type": "code",
   "execution_count": 46,
   "id": "0afa68eb",
   "metadata": {
    "execution": {
     "iopub.execute_input": "2024-07-16T14:49:02.366044Z",
     "iopub.status.busy": "2024-07-16T14:49:02.365177Z",
     "iopub.status.idle": "2024-07-16T14:49:02.408829Z",
     "shell.execute_reply": "2024-07-16T14:49:02.407651Z"
    },
    "papermill": {
     "duration": 0.070718,
     "end_time": "2024-07-16T14:49:02.411552",
     "exception": false,
     "start_time": "2024-07-16T14:49:02.340834",
     "status": "completed"
    },
    "tags": []
   },
   "outputs": [],
   "source": [
    "from sklearn.tree import DecisionTreeClassifier"
   ]
  },
  {
   "cell_type": "code",
   "execution_count": 47,
   "id": "f6d0b480",
   "metadata": {
    "execution": {
     "iopub.execute_input": "2024-07-16T14:49:02.458482Z",
     "iopub.status.busy": "2024-07-16T14:49:02.458081Z",
     "iopub.status.idle": "2024-07-16T14:49:02.463590Z",
     "shell.execute_reply": "2024-07-16T14:49:02.462395Z"
    },
    "papermill": {
     "duration": 0.032,
     "end_time": "2024-07-16T14:49:02.466191",
     "exception": false,
     "start_time": "2024-07-16T14:49:02.434191",
     "status": "completed"
    },
    "tags": []
   },
   "outputs": [],
   "source": [
    "dtree=DecisionTreeClassifier()"
   ]
  },
  {
   "cell_type": "code",
   "execution_count": 48,
   "id": "f5d6b2e0",
   "metadata": {
    "execution": {
     "iopub.execute_input": "2024-07-16T14:49:02.513960Z",
     "iopub.status.busy": "2024-07-16T14:49:02.512964Z",
     "iopub.status.idle": "2024-07-16T14:49:02.525056Z",
     "shell.execute_reply": "2024-07-16T14:49:02.523942Z"
    },
    "papermill": {
     "duration": 0.038517,
     "end_time": "2024-07-16T14:49:02.527442",
     "exception": false,
     "start_time": "2024-07-16T14:49:02.488925",
     "status": "completed"
    },
    "tags": []
   },
   "outputs": [
    {
     "data": {
      "text/html": [
       "<style>#sk-container-id-4 {color: black;background-color: white;}#sk-container-id-4 pre{padding: 0;}#sk-container-id-4 div.sk-toggleable {background-color: white;}#sk-container-id-4 label.sk-toggleable__label {cursor: pointer;display: block;width: 100%;margin-bottom: 0;padding: 0.3em;box-sizing: border-box;text-align: center;}#sk-container-id-4 label.sk-toggleable__label-arrow:before {content: \"▸\";float: left;margin-right: 0.25em;color: #696969;}#sk-container-id-4 label.sk-toggleable__label-arrow:hover:before {color: black;}#sk-container-id-4 div.sk-estimator:hover label.sk-toggleable__label-arrow:before {color: black;}#sk-container-id-4 div.sk-toggleable__content {max-height: 0;max-width: 0;overflow: hidden;text-align: left;background-color: #f0f8ff;}#sk-container-id-4 div.sk-toggleable__content pre {margin: 0.2em;color: black;border-radius: 0.25em;background-color: #f0f8ff;}#sk-container-id-4 input.sk-toggleable__control:checked~div.sk-toggleable__content {max-height: 200px;max-width: 100%;overflow: auto;}#sk-container-id-4 input.sk-toggleable__control:checked~label.sk-toggleable__label-arrow:before {content: \"▾\";}#sk-container-id-4 div.sk-estimator input.sk-toggleable__control:checked~label.sk-toggleable__label {background-color: #d4ebff;}#sk-container-id-4 div.sk-label input.sk-toggleable__control:checked~label.sk-toggleable__label {background-color: #d4ebff;}#sk-container-id-4 input.sk-hidden--visually {border: 0;clip: rect(1px 1px 1px 1px);clip: rect(1px, 1px, 1px, 1px);height: 1px;margin: -1px;overflow: hidden;padding: 0;position: absolute;width: 1px;}#sk-container-id-4 div.sk-estimator {font-family: monospace;background-color: #f0f8ff;border: 1px dotted black;border-radius: 0.25em;box-sizing: border-box;margin-bottom: 0.5em;}#sk-container-id-4 div.sk-estimator:hover {background-color: #d4ebff;}#sk-container-id-4 div.sk-parallel-item::after {content: \"\";width: 100%;border-bottom: 1px solid gray;flex-grow: 1;}#sk-container-id-4 div.sk-label:hover label.sk-toggleable__label {background-color: #d4ebff;}#sk-container-id-4 div.sk-serial::before {content: \"\";position: absolute;border-left: 1px solid gray;box-sizing: border-box;top: 0;bottom: 0;left: 50%;z-index: 0;}#sk-container-id-4 div.sk-serial {display: flex;flex-direction: column;align-items: center;background-color: white;padding-right: 0.2em;padding-left: 0.2em;position: relative;}#sk-container-id-4 div.sk-item {position: relative;z-index: 1;}#sk-container-id-4 div.sk-parallel {display: flex;align-items: stretch;justify-content: center;background-color: white;position: relative;}#sk-container-id-4 div.sk-item::before, #sk-container-id-4 div.sk-parallel-item::before {content: \"\";position: absolute;border-left: 1px solid gray;box-sizing: border-box;top: 0;bottom: 0;left: 50%;z-index: -1;}#sk-container-id-4 div.sk-parallel-item {display: flex;flex-direction: column;z-index: 1;position: relative;background-color: white;}#sk-container-id-4 div.sk-parallel-item:first-child::after {align-self: flex-end;width: 50%;}#sk-container-id-4 div.sk-parallel-item:last-child::after {align-self: flex-start;width: 50%;}#sk-container-id-4 div.sk-parallel-item:only-child::after {width: 0;}#sk-container-id-4 div.sk-dashed-wrapped {border: 1px dashed gray;margin: 0 0.4em 0.5em 0.4em;box-sizing: border-box;padding-bottom: 0.4em;background-color: white;}#sk-container-id-4 div.sk-label label {font-family: monospace;font-weight: bold;display: inline-block;line-height: 1.2em;}#sk-container-id-4 div.sk-label-container {text-align: center;}#sk-container-id-4 div.sk-container {/* jupyter's `normalize.less` sets `[hidden] { display: none; }` but bootstrap.min.css set `[hidden] { display: none !important; }` so we also need the `!important` here to be able to override the default hidden behavior on the sphinx rendered scikit-learn.org. See: https://github.com/scikit-learn/scikit-learn/issues/21755 */display: inline-block !important;position: relative;}#sk-container-id-4 div.sk-text-repr-fallback {display: none;}</style><div id=\"sk-container-id-4\" class=\"sk-top-container\"><div class=\"sk-text-repr-fallback\"><pre>DecisionTreeClassifier()</pre><b>In a Jupyter environment, please rerun this cell to show the HTML representation or trust the notebook. <br />On GitHub, the HTML representation is unable to render, please try loading this page with nbviewer.org.</b></div><div class=\"sk-container\" hidden><div class=\"sk-item\"><div class=\"sk-estimator sk-toggleable\"><input class=\"sk-toggleable__control sk-hidden--visually\" id=\"sk-estimator-id-4\" type=\"checkbox\" checked><label for=\"sk-estimator-id-4\" class=\"sk-toggleable__label sk-toggleable__label-arrow\">DecisionTreeClassifier</label><div class=\"sk-toggleable__content\"><pre>DecisionTreeClassifier()</pre></div></div></div></div></div>"
      ],
      "text/plain": [
       "DecisionTreeClassifier()"
      ]
     },
     "execution_count": 48,
     "metadata": {},
     "output_type": "execute_result"
    }
   ],
   "source": [
    "dtree.fit(X_train,y_train)"
   ]
  },
  {
   "cell_type": "markdown",
   "id": "260680c0",
   "metadata": {
    "papermill": {
     "duration": 0.022643,
     "end_time": "2024-07-16T14:49:02.572987",
     "exception": false,
     "start_time": "2024-07-16T14:49:02.550344",
     "status": "completed"
    },
    "tags": []
   },
   "source": [
    "## Prediction & Evaluation"
   ]
  },
  {
   "cell_type": "code",
   "execution_count": 49,
   "id": "038195fd",
   "metadata": {
    "execution": {
     "iopub.execute_input": "2024-07-16T14:49:02.621683Z",
     "iopub.status.busy": "2024-07-16T14:49:02.621070Z",
     "iopub.status.idle": "2024-07-16T14:49:02.628664Z",
     "shell.execute_reply": "2024-07-16T14:49:02.627501Z"
    },
    "papermill": {
     "duration": 0.0348,
     "end_time": "2024-07-16T14:49:02.631169",
     "exception": false,
     "start_time": "2024-07-16T14:49:02.596369",
     "status": "completed"
    },
    "tags": []
   },
   "outputs": [],
   "source": [
    "prediction_dtree=dtree.predict(X_test)"
   ]
  },
  {
   "cell_type": "code",
   "execution_count": 50,
   "id": "3ec243e4",
   "metadata": {
    "execution": {
     "iopub.execute_input": "2024-07-16T14:49:02.679503Z",
     "iopub.status.busy": "2024-07-16T14:49:02.678550Z",
     "iopub.status.idle": "2024-07-16T14:49:02.696007Z",
     "shell.execute_reply": "2024-07-16T14:49:02.694652Z"
    },
    "papermill": {
     "duration": 0.044588,
     "end_time": "2024-07-16T14:49:02.698624",
     "exception": false,
     "start_time": "2024-07-16T14:49:02.654036",
     "status": "completed"
    },
    "tags": []
   },
   "outputs": [
    {
     "name": "stdout",
     "output_type": "stream",
     "text": [
      "              precision    recall  f1-score   support\n",
      "\n",
      "           0       1.00      0.84      0.92        64\n",
      "           1       0.90      1.00      0.95        86\n",
      "\n",
      "    accuracy                           0.93       150\n",
      "   macro avg       0.95      0.92      0.93       150\n",
      "weighted avg       0.94      0.93      0.93       150\n",
      "\n",
      "[[54 10]\n",
      " [ 0 86]]\n"
     ]
    }
   ],
   "source": [
    "print(classification_report(y_test,prediction_knn))\n",
    "print(confusion_matrix(y_test,prediction_knn))"
   ]
  },
  {
   "cell_type": "markdown",
   "id": "726ea4b0",
   "metadata": {
    "papermill": {
     "duration": 0.022528,
     "end_time": "2024-07-16T14:49:02.744146",
     "exception": false,
     "start_time": "2024-07-16T14:49:02.721618",
     "status": "completed"
    },
    "tags": []
   },
   "source": [
    "## Random Forest"
   ]
  },
  {
   "cell_type": "code",
   "execution_count": 51,
   "id": "d7a49ac0",
   "metadata": {
    "execution": {
     "iopub.execute_input": "2024-07-16T14:49:02.791678Z",
     "iopub.status.busy": "2024-07-16T14:49:02.791268Z",
     "iopub.status.idle": "2024-07-16T14:49:02.867228Z",
     "shell.execute_reply": "2024-07-16T14:49:02.865766Z"
    },
    "papermill": {
     "duration": 0.102905,
     "end_time": "2024-07-16T14:49:02.869977",
     "exception": false,
     "start_time": "2024-07-16T14:49:02.767072",
     "status": "completed"
    },
    "tags": []
   },
   "outputs": [],
   "source": [
    "from sklearn.ensemble import RandomForestClassifier"
   ]
  },
  {
   "cell_type": "code",
   "execution_count": 52,
   "id": "608731d4",
   "metadata": {
    "execution": {
     "iopub.execute_input": "2024-07-16T14:49:02.918645Z",
     "iopub.status.busy": "2024-07-16T14:49:02.918204Z",
     "iopub.status.idle": "2024-07-16T14:49:02.923325Z",
     "shell.execute_reply": "2024-07-16T14:49:02.922123Z"
    },
    "papermill": {
     "duration": 0.03256,
     "end_time": "2024-07-16T14:49:02.925618",
     "exception": false,
     "start_time": "2024-07-16T14:49:02.893058",
     "status": "completed"
    },
    "tags": []
   },
   "outputs": [],
   "source": [
    "R=RandomForestClassifier()"
   ]
  },
  {
   "cell_type": "code",
   "execution_count": 53,
   "id": "6e7b9e8d",
   "metadata": {
    "execution": {
     "iopub.execute_input": "2024-07-16T14:49:02.974447Z",
     "iopub.status.busy": "2024-07-16T14:49:02.974003Z",
     "iopub.status.idle": "2024-07-16T14:49:03.160053Z",
     "shell.execute_reply": "2024-07-16T14:49:03.158970Z"
    },
    "papermill": {
     "duration": 0.213621,
     "end_time": "2024-07-16T14:49:03.162922",
     "exception": false,
     "start_time": "2024-07-16T14:49:02.949301",
     "status": "completed"
    },
    "tags": []
   },
   "outputs": [
    {
     "data": {
      "text/html": [
       "<style>#sk-container-id-5 {color: black;background-color: white;}#sk-container-id-5 pre{padding: 0;}#sk-container-id-5 div.sk-toggleable {background-color: white;}#sk-container-id-5 label.sk-toggleable__label {cursor: pointer;display: block;width: 100%;margin-bottom: 0;padding: 0.3em;box-sizing: border-box;text-align: center;}#sk-container-id-5 label.sk-toggleable__label-arrow:before {content: \"▸\";float: left;margin-right: 0.25em;color: #696969;}#sk-container-id-5 label.sk-toggleable__label-arrow:hover:before {color: black;}#sk-container-id-5 div.sk-estimator:hover label.sk-toggleable__label-arrow:before {color: black;}#sk-container-id-5 div.sk-toggleable__content {max-height: 0;max-width: 0;overflow: hidden;text-align: left;background-color: #f0f8ff;}#sk-container-id-5 div.sk-toggleable__content pre {margin: 0.2em;color: black;border-radius: 0.25em;background-color: #f0f8ff;}#sk-container-id-5 input.sk-toggleable__control:checked~div.sk-toggleable__content {max-height: 200px;max-width: 100%;overflow: auto;}#sk-container-id-5 input.sk-toggleable__control:checked~label.sk-toggleable__label-arrow:before {content: \"▾\";}#sk-container-id-5 div.sk-estimator input.sk-toggleable__control:checked~label.sk-toggleable__label {background-color: #d4ebff;}#sk-container-id-5 div.sk-label input.sk-toggleable__control:checked~label.sk-toggleable__label {background-color: #d4ebff;}#sk-container-id-5 input.sk-hidden--visually {border: 0;clip: rect(1px 1px 1px 1px);clip: rect(1px, 1px, 1px, 1px);height: 1px;margin: -1px;overflow: hidden;padding: 0;position: absolute;width: 1px;}#sk-container-id-5 div.sk-estimator {font-family: monospace;background-color: #f0f8ff;border: 1px dotted black;border-radius: 0.25em;box-sizing: border-box;margin-bottom: 0.5em;}#sk-container-id-5 div.sk-estimator:hover {background-color: #d4ebff;}#sk-container-id-5 div.sk-parallel-item::after {content: \"\";width: 100%;border-bottom: 1px solid gray;flex-grow: 1;}#sk-container-id-5 div.sk-label:hover label.sk-toggleable__label {background-color: #d4ebff;}#sk-container-id-5 div.sk-serial::before {content: \"\";position: absolute;border-left: 1px solid gray;box-sizing: border-box;top: 0;bottom: 0;left: 50%;z-index: 0;}#sk-container-id-5 div.sk-serial {display: flex;flex-direction: column;align-items: center;background-color: white;padding-right: 0.2em;padding-left: 0.2em;position: relative;}#sk-container-id-5 div.sk-item {position: relative;z-index: 1;}#sk-container-id-5 div.sk-parallel {display: flex;align-items: stretch;justify-content: center;background-color: white;position: relative;}#sk-container-id-5 div.sk-item::before, #sk-container-id-5 div.sk-parallel-item::before {content: \"\";position: absolute;border-left: 1px solid gray;box-sizing: border-box;top: 0;bottom: 0;left: 50%;z-index: -1;}#sk-container-id-5 div.sk-parallel-item {display: flex;flex-direction: column;z-index: 1;position: relative;background-color: white;}#sk-container-id-5 div.sk-parallel-item:first-child::after {align-self: flex-end;width: 50%;}#sk-container-id-5 div.sk-parallel-item:last-child::after {align-self: flex-start;width: 50%;}#sk-container-id-5 div.sk-parallel-item:only-child::after {width: 0;}#sk-container-id-5 div.sk-dashed-wrapped {border: 1px dashed gray;margin: 0 0.4em 0.5em 0.4em;box-sizing: border-box;padding-bottom: 0.4em;background-color: white;}#sk-container-id-5 div.sk-label label {font-family: monospace;font-weight: bold;display: inline-block;line-height: 1.2em;}#sk-container-id-5 div.sk-label-container {text-align: center;}#sk-container-id-5 div.sk-container {/* jupyter's `normalize.less` sets `[hidden] { display: none; }` but bootstrap.min.css set `[hidden] { display: none !important; }` so we also need the `!important` here to be able to override the default hidden behavior on the sphinx rendered scikit-learn.org. See: https://github.com/scikit-learn/scikit-learn/issues/21755 */display: inline-block !important;position: relative;}#sk-container-id-5 div.sk-text-repr-fallback {display: none;}</style><div id=\"sk-container-id-5\" class=\"sk-top-container\"><div class=\"sk-text-repr-fallback\"><pre>RandomForestClassifier()</pre><b>In a Jupyter environment, please rerun this cell to show the HTML representation or trust the notebook. <br />On GitHub, the HTML representation is unable to render, please try loading this page with nbviewer.org.</b></div><div class=\"sk-container\" hidden><div class=\"sk-item\"><div class=\"sk-estimator sk-toggleable\"><input class=\"sk-toggleable__control sk-hidden--visually\" id=\"sk-estimator-id-5\" type=\"checkbox\" checked><label for=\"sk-estimator-id-5\" class=\"sk-toggleable__label sk-toggleable__label-arrow\">RandomForestClassifier</label><div class=\"sk-toggleable__content\"><pre>RandomForestClassifier()</pre></div></div></div></div></div>"
      ],
      "text/plain": [
       "RandomForestClassifier()"
      ]
     },
     "execution_count": 53,
     "metadata": {},
     "output_type": "execute_result"
    }
   ],
   "source": [
    "R.fit(X_train,y_train)"
   ]
  },
  {
   "cell_type": "code",
   "execution_count": 54,
   "id": "f71dacde",
   "metadata": {
    "execution": {
     "iopub.execute_input": "2024-07-16T14:49:03.212127Z",
     "iopub.status.busy": "2024-07-16T14:49:03.211722Z",
     "iopub.status.idle": "2024-07-16T14:49:03.226313Z",
     "shell.execute_reply": "2024-07-16T14:49:03.225055Z"
    },
    "papermill": {
     "duration": 0.041381,
     "end_time": "2024-07-16T14:49:03.228792",
     "exception": false,
     "start_time": "2024-07-16T14:49:03.187411",
     "status": "completed"
    },
    "tags": []
   },
   "outputs": [],
   "source": [
    "prediction_R=R.predict(X_test)"
   ]
  },
  {
   "cell_type": "code",
   "execution_count": 55,
   "id": "31b1695f",
   "metadata": {
    "execution": {
     "iopub.execute_input": "2024-07-16T14:49:03.277490Z",
     "iopub.status.busy": "2024-07-16T14:49:03.277092Z",
     "iopub.status.idle": "2024-07-16T14:49:03.294099Z",
     "shell.execute_reply": "2024-07-16T14:49:03.292876Z"
    },
    "papermill": {
     "duration": 0.044441,
     "end_time": "2024-07-16T14:49:03.296661",
     "exception": false,
     "start_time": "2024-07-16T14:49:03.252220",
     "status": "completed"
    },
    "tags": []
   },
   "outputs": [
    {
     "name": "stdout",
     "output_type": "stream",
     "text": [
      "              precision    recall  f1-score   support\n",
      "\n",
      "           0       1.00      1.00      1.00        64\n",
      "           1       1.00      1.00      1.00        86\n",
      "\n",
      "    accuracy                           1.00       150\n",
      "   macro avg       1.00      1.00      1.00       150\n",
      "weighted avg       1.00      1.00      1.00       150\n",
      "\n",
      "[[64  0]\n",
      " [ 0 86]]\n"
     ]
    }
   ],
   "source": [
    "print(classification_report(y_test,prediction_R))\n",
    "print(confusion_matrix(y_test,prediction_R))"
   ]
  },
  {
   "cell_type": "markdown",
   "id": "dc506fae",
   "metadata": {
    "papermill": {
     "duration": 0.022622,
     "end_time": "2024-07-16T14:49:03.342350",
     "exception": false,
     "start_time": "2024-07-16T14:49:03.319728",
     "status": "completed"
    },
    "tags": []
   },
   "source": [
    "# Support Vector Machine"
   ]
  },
  {
   "cell_type": "markdown",
   "id": "7869215e",
   "metadata": {
    "papermill": {
     "duration": 0.022485,
     "end_time": "2024-07-16T14:49:03.387782",
     "exception": false,
     "start_time": "2024-07-16T14:49:03.365297",
     "status": "completed"
    },
    "tags": []
   },
   "source": [
    "## Train Test Split"
   ]
  },
  {
   "cell_type": "code",
   "execution_count": 56,
   "id": "983191b8",
   "metadata": {
    "execution": {
     "iopub.execute_input": "2024-07-16T14:49:03.435847Z",
     "iopub.status.busy": "2024-07-16T14:49:03.435452Z",
     "iopub.status.idle": "2024-07-16T14:49:03.444387Z",
     "shell.execute_reply": "2024-07-16T14:49:03.443280Z"
    },
    "papermill": {
     "duration": 0.036148,
     "end_time": "2024-07-16T14:49:03.446778",
     "exception": false,
     "start_time": "2024-07-16T14:49:03.410630",
     "status": "completed"
    },
    "tags": []
   },
   "outputs": [],
   "source": [
    "X=df.drop('Anaemic',axis=1)\n",
    "y=df['Anaemic']\n",
    "X_train,X_test,y_train,y_test=train_test_split(X,y,test_size=0.30,random_state=101)"
   ]
  },
  {
   "cell_type": "markdown",
   "id": "b569321c",
   "metadata": {
    "papermill": {
     "duration": 0.022629,
     "end_time": "2024-07-16T14:49:03.493228",
     "exception": false,
     "start_time": "2024-07-16T14:49:03.470599",
     "status": "completed"
    },
    "tags": []
   },
   "source": [
    "## Training Model"
   ]
  },
  {
   "cell_type": "code",
   "execution_count": 57,
   "id": "168c1334",
   "metadata": {
    "execution": {
     "iopub.execute_input": "2024-07-16T14:49:03.541040Z",
     "iopub.status.busy": "2024-07-16T14:49:03.540650Z",
     "iopub.status.idle": "2024-07-16T14:49:03.545612Z",
     "shell.execute_reply": "2024-07-16T14:49:03.544549Z"
    },
    "papermill": {
     "duration": 0.031655,
     "end_time": "2024-07-16T14:49:03.548014",
     "exception": false,
     "start_time": "2024-07-16T14:49:03.516359",
     "status": "completed"
    },
    "tags": []
   },
   "outputs": [],
   "source": [
    "from sklearn.svm import SVC"
   ]
  },
  {
   "cell_type": "code",
   "execution_count": 58,
   "id": "e9f9212b",
   "metadata": {
    "execution": {
     "iopub.execute_input": "2024-07-16T14:49:03.595950Z",
     "iopub.status.busy": "2024-07-16T14:49:03.595256Z",
     "iopub.status.idle": "2024-07-16T14:49:03.600457Z",
     "shell.execute_reply": "2024-07-16T14:49:03.599267Z"
    },
    "papermill": {
     "duration": 0.031738,
     "end_time": "2024-07-16T14:49:03.602771",
     "exception": false,
     "start_time": "2024-07-16T14:49:03.571033",
     "status": "completed"
    },
    "tags": []
   },
   "outputs": [],
   "source": [
    "svc=SVC()"
   ]
  },
  {
   "cell_type": "code",
   "execution_count": 59,
   "id": "cfd736d0",
   "metadata": {
    "execution": {
     "iopub.execute_input": "2024-07-16T14:49:03.650671Z",
     "iopub.status.busy": "2024-07-16T14:49:03.650257Z",
     "iopub.status.idle": "2024-07-16T14:49:03.666076Z",
     "shell.execute_reply": "2024-07-16T14:49:03.665020Z"
    },
    "papermill": {
     "duration": 0.042533,
     "end_time": "2024-07-16T14:49:03.668392",
     "exception": false,
     "start_time": "2024-07-16T14:49:03.625859",
     "status": "completed"
    },
    "tags": []
   },
   "outputs": [
    {
     "data": {
      "text/html": [
       "<style>#sk-container-id-6 {color: black;background-color: white;}#sk-container-id-6 pre{padding: 0;}#sk-container-id-6 div.sk-toggleable {background-color: white;}#sk-container-id-6 label.sk-toggleable__label {cursor: pointer;display: block;width: 100%;margin-bottom: 0;padding: 0.3em;box-sizing: border-box;text-align: center;}#sk-container-id-6 label.sk-toggleable__label-arrow:before {content: \"▸\";float: left;margin-right: 0.25em;color: #696969;}#sk-container-id-6 label.sk-toggleable__label-arrow:hover:before {color: black;}#sk-container-id-6 div.sk-estimator:hover label.sk-toggleable__label-arrow:before {color: black;}#sk-container-id-6 div.sk-toggleable__content {max-height: 0;max-width: 0;overflow: hidden;text-align: left;background-color: #f0f8ff;}#sk-container-id-6 div.sk-toggleable__content pre {margin: 0.2em;color: black;border-radius: 0.25em;background-color: #f0f8ff;}#sk-container-id-6 input.sk-toggleable__control:checked~div.sk-toggleable__content {max-height: 200px;max-width: 100%;overflow: auto;}#sk-container-id-6 input.sk-toggleable__control:checked~label.sk-toggleable__label-arrow:before {content: \"▾\";}#sk-container-id-6 div.sk-estimator input.sk-toggleable__control:checked~label.sk-toggleable__label {background-color: #d4ebff;}#sk-container-id-6 div.sk-label input.sk-toggleable__control:checked~label.sk-toggleable__label {background-color: #d4ebff;}#sk-container-id-6 input.sk-hidden--visually {border: 0;clip: rect(1px 1px 1px 1px);clip: rect(1px, 1px, 1px, 1px);height: 1px;margin: -1px;overflow: hidden;padding: 0;position: absolute;width: 1px;}#sk-container-id-6 div.sk-estimator {font-family: monospace;background-color: #f0f8ff;border: 1px dotted black;border-radius: 0.25em;box-sizing: border-box;margin-bottom: 0.5em;}#sk-container-id-6 div.sk-estimator:hover {background-color: #d4ebff;}#sk-container-id-6 div.sk-parallel-item::after {content: \"\";width: 100%;border-bottom: 1px solid gray;flex-grow: 1;}#sk-container-id-6 div.sk-label:hover label.sk-toggleable__label {background-color: #d4ebff;}#sk-container-id-6 div.sk-serial::before {content: \"\";position: absolute;border-left: 1px solid gray;box-sizing: border-box;top: 0;bottom: 0;left: 50%;z-index: 0;}#sk-container-id-6 div.sk-serial {display: flex;flex-direction: column;align-items: center;background-color: white;padding-right: 0.2em;padding-left: 0.2em;position: relative;}#sk-container-id-6 div.sk-item {position: relative;z-index: 1;}#sk-container-id-6 div.sk-parallel {display: flex;align-items: stretch;justify-content: center;background-color: white;position: relative;}#sk-container-id-6 div.sk-item::before, #sk-container-id-6 div.sk-parallel-item::before {content: \"\";position: absolute;border-left: 1px solid gray;box-sizing: border-box;top: 0;bottom: 0;left: 50%;z-index: -1;}#sk-container-id-6 div.sk-parallel-item {display: flex;flex-direction: column;z-index: 1;position: relative;background-color: white;}#sk-container-id-6 div.sk-parallel-item:first-child::after {align-self: flex-end;width: 50%;}#sk-container-id-6 div.sk-parallel-item:last-child::after {align-self: flex-start;width: 50%;}#sk-container-id-6 div.sk-parallel-item:only-child::after {width: 0;}#sk-container-id-6 div.sk-dashed-wrapped {border: 1px dashed gray;margin: 0 0.4em 0.5em 0.4em;box-sizing: border-box;padding-bottom: 0.4em;background-color: white;}#sk-container-id-6 div.sk-label label {font-family: monospace;font-weight: bold;display: inline-block;line-height: 1.2em;}#sk-container-id-6 div.sk-label-container {text-align: center;}#sk-container-id-6 div.sk-container {/* jupyter's `normalize.less` sets `[hidden] { display: none; }` but bootstrap.min.css set `[hidden] { display: none !important; }` so we also need the `!important` here to be able to override the default hidden behavior on the sphinx rendered scikit-learn.org. See: https://github.com/scikit-learn/scikit-learn/issues/21755 */display: inline-block !important;position: relative;}#sk-container-id-6 div.sk-text-repr-fallback {display: none;}</style><div id=\"sk-container-id-6\" class=\"sk-top-container\"><div class=\"sk-text-repr-fallback\"><pre>SVC()</pre><b>In a Jupyter environment, please rerun this cell to show the HTML representation or trust the notebook. <br />On GitHub, the HTML representation is unable to render, please try loading this page with nbviewer.org.</b></div><div class=\"sk-container\" hidden><div class=\"sk-item\"><div class=\"sk-estimator sk-toggleable\"><input class=\"sk-toggleable__control sk-hidden--visually\" id=\"sk-estimator-id-6\" type=\"checkbox\" checked><label for=\"sk-estimator-id-6\" class=\"sk-toggleable__label sk-toggleable__label-arrow\">SVC</label><div class=\"sk-toggleable__content\"><pre>SVC()</pre></div></div></div></div></div>"
      ],
      "text/plain": [
       "SVC()"
      ]
     },
     "execution_count": 59,
     "metadata": {},
     "output_type": "execute_result"
    }
   ],
   "source": [
    "svc.fit(X_train,y_train)"
   ]
  },
  {
   "cell_type": "markdown",
   "id": "89abbabc",
   "metadata": {
    "papermill": {
     "duration": 0.024954,
     "end_time": "2024-07-16T14:49:03.716503",
     "exception": false,
     "start_time": "2024-07-16T14:49:03.691549",
     "status": "completed"
    },
    "tags": []
   },
   "source": [
    "## Prediction and Evaluation"
   ]
  },
  {
   "cell_type": "code",
   "execution_count": 60,
   "id": "785a6525",
   "metadata": {
    "execution": {
     "iopub.execute_input": "2024-07-16T14:49:03.766036Z",
     "iopub.status.busy": "2024-07-16T14:49:03.765615Z",
     "iopub.status.idle": "2024-07-16T14:49:03.774067Z",
     "shell.execute_reply": "2024-07-16T14:49:03.772817Z"
    },
    "papermill": {
     "duration": 0.036239,
     "end_time": "2024-07-16T14:49:03.776662",
     "exception": false,
     "start_time": "2024-07-16T14:49:03.740423",
     "status": "completed"
    },
    "tags": []
   },
   "outputs": [],
   "source": [
    "prediction_svc=svc.predict(X_test)"
   ]
  },
  {
   "cell_type": "code",
   "execution_count": 61,
   "id": "8e7125c6",
   "metadata": {
    "execution": {
     "iopub.execute_input": "2024-07-16T14:49:03.825806Z",
     "iopub.status.busy": "2024-07-16T14:49:03.825356Z",
     "iopub.status.idle": "2024-07-16T14:49:03.842808Z",
     "shell.execute_reply": "2024-07-16T14:49:03.841380Z"
    },
    "papermill": {
     "duration": 0.045043,
     "end_time": "2024-07-16T14:49:03.845125",
     "exception": false,
     "start_time": "2024-07-16T14:49:03.800082",
     "status": "completed"
    },
    "tags": []
   },
   "outputs": [
    {
     "name": "stdout",
     "output_type": "stream",
     "text": [
      "              precision    recall  f1-score   support\n",
      "\n",
      "           0       1.00      1.00      1.00        64\n",
      "           1       1.00      1.00      1.00        86\n",
      "\n",
      "    accuracy                           1.00       150\n",
      "   macro avg       1.00      1.00      1.00       150\n",
      "weighted avg       1.00      1.00      1.00       150\n",
      "\n",
      "[[64  0]\n",
      " [ 0 86]]\n"
     ]
    }
   ],
   "source": [
    "print(classification_report(y_test,prediction_R))\n",
    "print(confusion_matrix(y_test,prediction_R))"
   ]
  },
  {
   "cell_type": "markdown",
   "id": "51a8faa5",
   "metadata": {
    "papermill": {
     "duration": 0.02441,
     "end_time": "2024-07-16T14:49:03.893999",
     "exception": false,
     "start_time": "2024-07-16T14:49:03.869589",
     "status": "completed"
    },
    "tags": []
   },
   "source": [
    "## Grid Search CV"
   ]
  },
  {
   "cell_type": "code",
   "execution_count": 62,
   "id": "68af71d4",
   "metadata": {
    "execution": {
     "iopub.execute_input": "2024-07-16T14:49:03.944174Z",
     "iopub.status.busy": "2024-07-16T14:49:03.943782Z",
     "iopub.status.idle": "2024-07-16T14:49:03.948952Z",
     "shell.execute_reply": "2024-07-16T14:49:03.947833Z"
    },
    "papermill": {
     "duration": 0.032768,
     "end_time": "2024-07-16T14:49:03.951337",
     "exception": false,
     "start_time": "2024-07-16T14:49:03.918569",
     "status": "completed"
    },
    "tags": []
   },
   "outputs": [],
   "source": [
    "from sklearn.model_selection import GridSearchCV"
   ]
  },
  {
   "cell_type": "code",
   "execution_count": 63,
   "id": "2c2a1577",
   "metadata": {
    "execution": {
     "iopub.execute_input": "2024-07-16T14:49:04.001416Z",
     "iopub.status.busy": "2024-07-16T14:49:04.000326Z",
     "iopub.status.idle": "2024-07-16T14:49:04.006181Z",
     "shell.execute_reply": "2024-07-16T14:49:04.004980Z"
    },
    "papermill": {
     "duration": 0.033774,
     "end_time": "2024-07-16T14:49:04.008504",
     "exception": false,
     "start_time": "2024-07-16T14:49:03.974730",
     "status": "completed"
    },
    "tags": []
   },
   "outputs": [],
   "source": [
    "param_grid={'C':[0.1,1,10,100,1000],'gamma':[1,0.1,0.01,0.001,0.0001],'kernel':['rbf']}"
   ]
  },
  {
   "cell_type": "code",
   "execution_count": 64,
   "id": "294d04a6",
   "metadata": {
    "execution": {
     "iopub.execute_input": "2024-07-16T14:49:04.058246Z",
     "iopub.status.busy": "2024-07-16T14:49:04.057239Z",
     "iopub.status.idle": "2024-07-16T14:49:04.063029Z",
     "shell.execute_reply": "2024-07-16T14:49:04.061826Z"
    },
    "papermill": {
     "duration": 0.033721,
     "end_time": "2024-07-16T14:49:04.065589",
     "exception": false,
     "start_time": "2024-07-16T14:49:04.031868",
     "status": "completed"
    },
    "tags": []
   },
   "outputs": [],
   "source": [
    "grid=GridSearchCV(SVC(),param_grid,verbose=3,refit=True)"
   ]
  },
  {
   "cell_type": "code",
   "execution_count": 65,
   "id": "1f7036b7",
   "metadata": {
    "execution": {
     "iopub.execute_input": "2024-07-16T14:49:04.122615Z",
     "iopub.status.busy": "2024-07-16T14:49:04.122188Z",
     "iopub.status.idle": "2024-07-16T14:49:05.291519Z",
     "shell.execute_reply": "2024-07-16T14:49:05.290378Z"
    },
    "papermill": {
     "duration": 1.200107,
     "end_time": "2024-07-16T14:49:05.294258",
     "exception": false,
     "start_time": "2024-07-16T14:49:04.094151",
     "status": "completed"
    },
    "tags": []
   },
   "outputs": [
    {
     "name": "stdout",
     "output_type": "stream",
     "text": [
      "Fitting 5 folds for each of 25 candidates, totalling 125 fits\n",
      "[CV 1/5] END ........C=0.1, gamma=1, kernel=rbf;, score=0.529 total time=   0.0s\n",
      "[CV 2/5] END ........C=0.1, gamma=1, kernel=rbf;, score=0.529 total time=   0.0s\n",
      "[CV 3/5] END ........C=0.1, gamma=1, kernel=rbf;, score=0.529 total time=   0.0s\n",
      "[CV 4/5] END ........C=0.1, gamma=1, kernel=rbf;, score=0.529 total time=   0.0s\n",
      "[CV 5/5] END ........C=0.1, gamma=1, kernel=rbf;, score=0.543 total time=   0.0s\n",
      "[CV 1/5] END ......C=0.1, gamma=0.1, kernel=rbf;, score=0.529 total time=   0.0s\n",
      "[CV 2/5] END ......C=0.1, gamma=0.1, kernel=rbf;, score=0.529 total time=   0.0s\n",
      "[CV 3/5] END ......C=0.1, gamma=0.1, kernel=rbf;, score=0.529 total time=   0.0s\n",
      "[CV 4/5] END ......C=0.1, gamma=0.1, kernel=rbf;, score=0.529 total time=   0.0s\n",
      "[CV 5/5] END ......C=0.1, gamma=0.1, kernel=rbf;, score=0.543 total time=   0.0s\n",
      "[CV 1/5] END .....C=0.1, gamma=0.01, kernel=rbf;, score=0.957 total time=   0.0s\n",
      "[CV 2/5] END .....C=0.1, gamma=0.01, kernel=rbf;, score=1.000 total time=   0.0s\n",
      "[CV 3/5] END .....C=0.1, gamma=0.01, kernel=rbf;, score=0.971 total time=   0.0s\n",
      "[CV 4/5] END .....C=0.1, gamma=0.01, kernel=rbf;, score=0.986 total time=   0.0s\n",
      "[CV 5/5] END .....C=0.1, gamma=0.01, kernel=rbf;, score=0.957 total time=   0.0s\n",
      "[CV 1/5] END ....C=0.1, gamma=0.001, kernel=rbf;, score=0.986 total time=   0.0s\n",
      "[CV 2/5] END ....C=0.1, gamma=0.001, kernel=rbf;, score=1.000 total time=   0.0s\n",
      "[CV 3/5] END ....C=0.1, gamma=0.001, kernel=rbf;, score=0.986 total time=   0.0s\n",
      "[CV 4/5] END ....C=0.1, gamma=0.001, kernel=rbf;, score=0.986 total time=   0.0s\n",
      "[CV 5/5] END ....C=0.1, gamma=0.001, kernel=rbf;, score=1.000 total time=   0.0s\n",
      "[CV 1/5] END ...C=0.1, gamma=0.0001, kernel=rbf;, score=0.943 total time=   0.0s\n",
      "[CV 2/5] END ...C=0.1, gamma=0.0001, kernel=rbf;, score=0.957 total time=   0.0s\n",
      "[CV 3/5] END ...C=0.1, gamma=0.0001, kernel=rbf;, score=0.957 total time=   0.0s\n",
      "[CV 4/5] END ...C=0.1, gamma=0.0001, kernel=rbf;, score=0.929 total time=   0.0s\n",
      "[CV 5/5] END ...C=0.1, gamma=0.0001, kernel=rbf;, score=0.886 total time=   0.0s\n",
      "[CV 1/5] END ..........C=1, gamma=1, kernel=rbf;, score=0.529 total time=   0.0s\n",
      "[CV 2/5] END ..........C=1, gamma=1, kernel=rbf;, score=0.529 total time=   0.0s\n",
      "[CV 3/5] END ..........C=1, gamma=1, kernel=rbf;, score=0.529 total time=   0.0s\n",
      "[CV 4/5] END ..........C=1, gamma=1, kernel=rbf;, score=0.529 total time=   0.0s\n",
      "[CV 5/5] END ..........C=1, gamma=1, kernel=rbf;, score=0.543 total time=   0.0s\n",
      "[CV 1/5] END ........C=1, gamma=0.1, kernel=rbf;, score=0.957 total time=   0.0s\n",
      "[CV 2/5] END ........C=1, gamma=0.1, kernel=rbf;, score=0.971 total time=   0.0s\n",
      "[CV 3/5] END ........C=1, gamma=0.1, kernel=rbf;, score=0.957 total time=   0.0s\n",
      "[CV 4/5] END ........C=1, gamma=0.1, kernel=rbf;, score=0.957 total time=   0.0s\n",
      "[CV 5/5] END ........C=1, gamma=0.1, kernel=rbf;, score=0.971 total time=   0.0s\n",
      "[CV 1/5] END .......C=1, gamma=0.01, kernel=rbf;, score=1.000 total time=   0.0s\n",
      "[CV 2/5] END .......C=1, gamma=0.01, kernel=rbf;, score=1.000 total time=   0.0s\n",
      "[CV 3/5] END .......C=1, gamma=0.01, kernel=rbf;, score=1.000 total time=   0.0s\n",
      "[CV 4/5] END .......C=1, gamma=0.01, kernel=rbf;, score=1.000 total time=   0.0s\n",
      "[CV 5/5] END .......C=1, gamma=0.01, kernel=rbf;, score=1.000 total time=   0.0s\n",
      "[CV 1/5] END ......C=1, gamma=0.001, kernel=rbf;, score=0.986 total time=   0.0s\n",
      "[CV 2/5] END ......C=1, gamma=0.001, kernel=rbf;, score=1.000 total time=   0.0s\n",
      "[CV 3/5] END ......C=1, gamma=0.001, kernel=rbf;, score=1.000 total time=   0.0s\n",
      "[CV 4/5] END ......C=1, gamma=0.001, kernel=rbf;, score=1.000 total time=   0.0s\n",
      "[CV 5/5] END ......C=1, gamma=0.001, kernel=rbf;, score=1.000 total time=   0.0s\n",
      "[CV 1/5] END .....C=1, gamma=0.0001, kernel=rbf;, score=0.986 total time=   0.0s\n",
      "[CV 2/5] END .....C=1, gamma=0.0001, kernel=rbf;, score=1.000 total time=   0.0s\n",
      "[CV 3/5] END .....C=1, gamma=0.0001, kernel=rbf;, score=0.971 total time=   0.0s\n",
      "[CV 4/5] END .....C=1, gamma=0.0001, kernel=rbf;, score=0.971 total time=   0.0s\n",
      "[CV 5/5] END .....C=1, gamma=0.0001, kernel=rbf;, score=0.986 total time=   0.0s\n",
      "[CV 1/5] END .........C=10, gamma=1, kernel=rbf;, score=0.529 total time=   0.0s\n",
      "[CV 2/5] END .........C=10, gamma=1, kernel=rbf;, score=0.529 total time=   0.0s\n",
      "[CV 3/5] END .........C=10, gamma=1, kernel=rbf;, score=0.543 total time=   0.0s\n",
      "[CV 4/5] END .........C=10, gamma=1, kernel=rbf;, score=0.543 total time=   0.0s\n",
      "[CV 5/5] END .........C=10, gamma=1, kernel=rbf;, score=0.543 total time=   0.0s\n",
      "[CV 1/5] END .......C=10, gamma=0.1, kernel=rbf;, score=0.971 total time=   0.0s\n",
      "[CV 2/5] END .......C=10, gamma=0.1, kernel=rbf;, score=0.971 total time=   0.0s\n",
      "[CV 3/5] END .......C=10, gamma=0.1, kernel=rbf;, score=0.957 total time=   0.0s\n",
      "[CV 4/5] END .......C=10, gamma=0.1, kernel=rbf;, score=0.957 total time=   0.0s\n",
      "[CV 5/5] END .......C=10, gamma=0.1, kernel=rbf;, score=0.971 total time=   0.0s\n",
      "[CV 1/5] END ......C=10, gamma=0.01, kernel=rbf;, score=1.000 total time=   0.0s\n",
      "[CV 2/5] END ......C=10, gamma=0.01, kernel=rbf;, score=1.000 total time=   0.0s\n",
      "[CV 3/5] END ......C=10, gamma=0.01, kernel=rbf;, score=1.000 total time=   0.0s\n",
      "[CV 4/5] END ......C=10, gamma=0.01, kernel=rbf;, score=1.000 total time=   0.0s\n",
      "[CV 5/5] END ......C=10, gamma=0.01, kernel=rbf;, score=1.000 total time=   0.0s\n",
      "[CV 1/5] END .....C=10, gamma=0.001, kernel=rbf;, score=1.000 total time=   0.0s\n",
      "[CV 2/5] END .....C=10, gamma=0.001, kernel=rbf;, score=1.000 total time=   0.0s\n",
      "[CV 3/5] END .....C=10, gamma=0.001, kernel=rbf;, score=1.000 total time=   0.0s\n",
      "[CV 4/5] END .....C=10, gamma=0.001, kernel=rbf;, score=1.000 total time=   0.0s\n",
      "[CV 5/5] END .....C=10, gamma=0.001, kernel=rbf;, score=1.000 total time=   0.0s\n",
      "[CV 1/5] END ....C=10, gamma=0.0001, kernel=rbf;, score=0.986 total time=   0.0s\n",
      "[CV 2/5] END ....C=10, gamma=0.0001, kernel=rbf;, score=1.000 total time=   0.0s\n",
      "[CV 3/5] END ....C=10, gamma=0.0001, kernel=rbf;, score=1.000 total time=   0.0s\n",
      "[CV 4/5] END ....C=10, gamma=0.0001, kernel=rbf;, score=1.000 total time=   0.0s\n",
      "[CV 5/5] END ....C=10, gamma=0.0001, kernel=rbf;, score=1.000 total time=   0.0s\n",
      "[CV 1/5] END ........C=100, gamma=1, kernel=rbf;, score=0.529 total time=   0.0s\n",
      "[CV 2/5] END ........C=100, gamma=1, kernel=rbf;, score=0.529 total time=   0.0s\n",
      "[CV 3/5] END ........C=100, gamma=1, kernel=rbf;, score=0.543 total time=   0.0s\n",
      "[CV 4/5] END ........C=100, gamma=1, kernel=rbf;, score=0.543 total time=   0.0s\n",
      "[CV 5/5] END ........C=100, gamma=1, kernel=rbf;, score=0.543 total time=   0.0s\n",
      "[CV 1/5] END ......C=100, gamma=0.1, kernel=rbf;, score=0.971 total time=   0.0s\n",
      "[CV 2/5] END ......C=100, gamma=0.1, kernel=rbf;, score=0.971 total time=   0.0s\n",
      "[CV 3/5] END ......C=100, gamma=0.1, kernel=rbf;, score=0.957 total time=   0.0s\n",
      "[CV 4/5] END ......C=100, gamma=0.1, kernel=rbf;, score=0.957 total time=   0.0s\n",
      "[CV 5/5] END ......C=100, gamma=0.1, kernel=rbf;, score=0.971 total time=   0.0s\n",
      "[CV 1/5] END .....C=100, gamma=0.01, kernel=rbf;, score=1.000 total time=   0.0s\n",
      "[CV 2/5] END .....C=100, gamma=0.01, kernel=rbf;, score=1.000 total time=   0.0s\n",
      "[CV 3/5] END .....C=100, gamma=0.01, kernel=rbf;, score=1.000 total time=   0.0s\n",
      "[CV 4/5] END .....C=100, gamma=0.01, kernel=rbf;, score=1.000 total time=   0.0s\n",
      "[CV 5/5] END .....C=100, gamma=0.01, kernel=rbf;, score=1.000 total time=   0.0s\n",
      "[CV 1/5] END ....C=100, gamma=0.001, kernel=rbf;, score=1.000 total time=   0.0s\n",
      "[CV 2/5] END ....C=100, gamma=0.001, kernel=rbf;, score=1.000 total time=   0.0s\n",
      "[CV 3/5] END ....C=100, gamma=0.001, kernel=rbf;, score=1.000 total time=   0.0s\n",
      "[CV 4/5] END ....C=100, gamma=0.001, kernel=rbf;, score=1.000 total time=   0.0s\n",
      "[CV 5/5] END ....C=100, gamma=0.001, kernel=rbf;, score=1.000 total time=   0.0s\n",
      "[CV 1/5] END ...C=100, gamma=0.0001, kernel=rbf;, score=1.000 total time=   0.0s\n",
      "[CV 2/5] END ...C=100, gamma=0.0001, kernel=rbf;, score=1.000 total time=   0.0s\n",
      "[CV 3/5] END ...C=100, gamma=0.0001, kernel=rbf;, score=1.000 total time=   0.0s\n",
      "[CV 4/5] END ...C=100, gamma=0.0001, kernel=rbf;, score=1.000 total time=   0.0s\n",
      "[CV 5/5] END ...C=100, gamma=0.0001, kernel=rbf;, score=1.000 total time=   0.0s\n",
      "[CV 1/5] END .......C=1000, gamma=1, kernel=rbf;, score=0.529 total time=   0.0s\n",
      "[CV 2/5] END .......C=1000, gamma=1, kernel=rbf;, score=0.529 total time=   0.0s\n",
      "[CV 3/5] END .......C=1000, gamma=1, kernel=rbf;, score=0.543 total time=   0.0s\n",
      "[CV 4/5] END .......C=1000, gamma=1, kernel=rbf;, score=0.543 total time=   0.0s\n",
      "[CV 5/5] END .......C=1000, gamma=1, kernel=rbf;, score=0.543 total time=   0.0s\n",
      "[CV 1/5] END .....C=1000, gamma=0.1, kernel=rbf;, score=0.971 total time=   0.0s\n",
      "[CV 2/5] END .....C=1000, gamma=0.1, kernel=rbf;, score=0.971 total time=   0.0s\n",
      "[CV 3/5] END .....C=1000, gamma=0.1, kernel=rbf;, score=0.957 total time=   0.0s\n",
      "[CV 4/5] END .....C=1000, gamma=0.1, kernel=rbf;, score=0.957 total time=   0.0s\n",
      "[CV 5/5] END .....C=1000, gamma=0.1, kernel=rbf;, score=0.971 total time=   0.0s\n",
      "[CV 1/5] END ....C=1000, gamma=0.01, kernel=rbf;, score=1.000 total time=   0.0s\n",
      "[CV 2/5] END ....C=1000, gamma=0.01, kernel=rbf;, score=1.000 total time=   0.0s\n",
      "[CV 3/5] END ....C=1000, gamma=0.01, kernel=rbf;, score=1.000 total time=   0.0s\n",
      "[CV 4/5] END ....C=1000, gamma=0.01, kernel=rbf;, score=1.000 total time=   0.0s\n",
      "[CV 5/5] END ....C=1000, gamma=0.01, kernel=rbf;, score=1.000 total time=   0.0s\n",
      "[CV 1/5] END ...C=1000, gamma=0.001, kernel=rbf;, score=1.000 total time=   0.0s\n",
      "[CV 2/5] END ...C=1000, gamma=0.001, kernel=rbf;, score=1.000 total time=   0.0s\n",
      "[CV 3/5] END ...C=1000, gamma=0.001, kernel=rbf;, score=1.000 total time=   0.0s\n",
      "[CV 4/5] END ...C=1000, gamma=0.001, kernel=rbf;, score=1.000 total time=   0.0s\n",
      "[CV 5/5] END ...C=1000, gamma=0.001, kernel=rbf;, score=1.000 total time=   0.0s\n",
      "[CV 1/5] END ..C=1000, gamma=0.0001, kernel=rbf;, score=1.000 total time=   0.0s\n",
      "[CV 2/5] END ..C=1000, gamma=0.0001, kernel=rbf;, score=1.000 total time=   0.0s\n",
      "[CV 3/5] END ..C=1000, gamma=0.0001, kernel=rbf;, score=1.000 total time=   0.0s\n",
      "[CV 4/5] END ..C=1000, gamma=0.0001, kernel=rbf;, score=1.000 total time=   0.0s\n",
      "[CV 5/5] END ..C=1000, gamma=0.0001, kernel=rbf;, score=1.000 total time=   0.0s\n"
     ]
    },
    {
     "data": {
      "text/html": [
       "<style>#sk-container-id-7 {color: black;background-color: white;}#sk-container-id-7 pre{padding: 0;}#sk-container-id-7 div.sk-toggleable {background-color: white;}#sk-container-id-7 label.sk-toggleable__label {cursor: pointer;display: block;width: 100%;margin-bottom: 0;padding: 0.3em;box-sizing: border-box;text-align: center;}#sk-container-id-7 label.sk-toggleable__label-arrow:before {content: \"▸\";float: left;margin-right: 0.25em;color: #696969;}#sk-container-id-7 label.sk-toggleable__label-arrow:hover:before {color: black;}#sk-container-id-7 div.sk-estimator:hover label.sk-toggleable__label-arrow:before {color: black;}#sk-container-id-7 div.sk-toggleable__content {max-height: 0;max-width: 0;overflow: hidden;text-align: left;background-color: #f0f8ff;}#sk-container-id-7 div.sk-toggleable__content pre {margin: 0.2em;color: black;border-radius: 0.25em;background-color: #f0f8ff;}#sk-container-id-7 input.sk-toggleable__control:checked~div.sk-toggleable__content {max-height: 200px;max-width: 100%;overflow: auto;}#sk-container-id-7 input.sk-toggleable__control:checked~label.sk-toggleable__label-arrow:before {content: \"▾\";}#sk-container-id-7 div.sk-estimator input.sk-toggleable__control:checked~label.sk-toggleable__label {background-color: #d4ebff;}#sk-container-id-7 div.sk-label input.sk-toggleable__control:checked~label.sk-toggleable__label {background-color: #d4ebff;}#sk-container-id-7 input.sk-hidden--visually {border: 0;clip: rect(1px 1px 1px 1px);clip: rect(1px, 1px, 1px, 1px);height: 1px;margin: -1px;overflow: hidden;padding: 0;position: absolute;width: 1px;}#sk-container-id-7 div.sk-estimator {font-family: monospace;background-color: #f0f8ff;border: 1px dotted black;border-radius: 0.25em;box-sizing: border-box;margin-bottom: 0.5em;}#sk-container-id-7 div.sk-estimator:hover {background-color: #d4ebff;}#sk-container-id-7 div.sk-parallel-item::after {content: \"\";width: 100%;border-bottom: 1px solid gray;flex-grow: 1;}#sk-container-id-7 div.sk-label:hover label.sk-toggleable__label {background-color: #d4ebff;}#sk-container-id-7 div.sk-serial::before {content: \"\";position: absolute;border-left: 1px solid gray;box-sizing: border-box;top: 0;bottom: 0;left: 50%;z-index: 0;}#sk-container-id-7 div.sk-serial {display: flex;flex-direction: column;align-items: center;background-color: white;padding-right: 0.2em;padding-left: 0.2em;position: relative;}#sk-container-id-7 div.sk-item {position: relative;z-index: 1;}#sk-container-id-7 div.sk-parallel {display: flex;align-items: stretch;justify-content: center;background-color: white;position: relative;}#sk-container-id-7 div.sk-item::before, #sk-container-id-7 div.sk-parallel-item::before {content: \"\";position: absolute;border-left: 1px solid gray;box-sizing: border-box;top: 0;bottom: 0;left: 50%;z-index: -1;}#sk-container-id-7 div.sk-parallel-item {display: flex;flex-direction: column;z-index: 1;position: relative;background-color: white;}#sk-container-id-7 div.sk-parallel-item:first-child::after {align-self: flex-end;width: 50%;}#sk-container-id-7 div.sk-parallel-item:last-child::after {align-self: flex-start;width: 50%;}#sk-container-id-7 div.sk-parallel-item:only-child::after {width: 0;}#sk-container-id-7 div.sk-dashed-wrapped {border: 1px dashed gray;margin: 0 0.4em 0.5em 0.4em;box-sizing: border-box;padding-bottom: 0.4em;background-color: white;}#sk-container-id-7 div.sk-label label {font-family: monospace;font-weight: bold;display: inline-block;line-height: 1.2em;}#sk-container-id-7 div.sk-label-container {text-align: center;}#sk-container-id-7 div.sk-container {/* jupyter's `normalize.less` sets `[hidden] { display: none; }` but bootstrap.min.css set `[hidden] { display: none !important; }` so we also need the `!important` here to be able to override the default hidden behavior on the sphinx rendered scikit-learn.org. See: https://github.com/scikit-learn/scikit-learn/issues/21755 */display: inline-block !important;position: relative;}#sk-container-id-7 div.sk-text-repr-fallback {display: none;}</style><div id=\"sk-container-id-7\" class=\"sk-top-container\"><div class=\"sk-text-repr-fallback\"><pre>GridSearchCV(estimator=SVC(),\n",
       "             param_grid={&#x27;C&#x27;: [0.1, 1, 10, 100, 1000],\n",
       "                         &#x27;gamma&#x27;: [1, 0.1, 0.01, 0.001, 0.0001],\n",
       "                         &#x27;kernel&#x27;: [&#x27;rbf&#x27;]},\n",
       "             verbose=3)</pre><b>In a Jupyter environment, please rerun this cell to show the HTML representation or trust the notebook. <br />On GitHub, the HTML representation is unable to render, please try loading this page with nbviewer.org.</b></div><div class=\"sk-container\" hidden><div class=\"sk-item sk-dashed-wrapped\"><div class=\"sk-label-container\"><div class=\"sk-label sk-toggleable\"><input class=\"sk-toggleable__control sk-hidden--visually\" id=\"sk-estimator-id-7\" type=\"checkbox\" ><label for=\"sk-estimator-id-7\" class=\"sk-toggleable__label sk-toggleable__label-arrow\">GridSearchCV</label><div class=\"sk-toggleable__content\"><pre>GridSearchCV(estimator=SVC(),\n",
       "             param_grid={&#x27;C&#x27;: [0.1, 1, 10, 100, 1000],\n",
       "                         &#x27;gamma&#x27;: [1, 0.1, 0.01, 0.001, 0.0001],\n",
       "                         &#x27;kernel&#x27;: [&#x27;rbf&#x27;]},\n",
       "             verbose=3)</pre></div></div></div><div class=\"sk-parallel\"><div class=\"sk-parallel-item\"><div class=\"sk-item\"><div class=\"sk-label-container\"><div class=\"sk-label sk-toggleable\"><input class=\"sk-toggleable__control sk-hidden--visually\" id=\"sk-estimator-id-8\" type=\"checkbox\" ><label for=\"sk-estimator-id-8\" class=\"sk-toggleable__label sk-toggleable__label-arrow\">estimator: SVC</label><div class=\"sk-toggleable__content\"><pre>SVC()</pre></div></div></div><div class=\"sk-serial\"><div class=\"sk-item\"><div class=\"sk-estimator sk-toggleable\"><input class=\"sk-toggleable__control sk-hidden--visually\" id=\"sk-estimator-id-9\" type=\"checkbox\" ><label for=\"sk-estimator-id-9\" class=\"sk-toggleable__label sk-toggleable__label-arrow\">SVC</label><div class=\"sk-toggleable__content\"><pre>SVC()</pre></div></div></div></div></div></div></div></div></div></div>"
      ],
      "text/plain": [
       "GridSearchCV(estimator=SVC(),\n",
       "             param_grid={'C': [0.1, 1, 10, 100, 1000],\n",
       "                         'gamma': [1, 0.1, 0.01, 0.001, 0.0001],\n",
       "                         'kernel': ['rbf']},\n",
       "             verbose=3)"
      ]
     },
     "execution_count": 65,
     "metadata": {},
     "output_type": "execute_result"
    }
   ],
   "source": [
    "grid.fit(X_train,y_train)"
   ]
  },
  {
   "cell_type": "code",
   "execution_count": 66,
   "id": "6416818e",
   "metadata": {
    "execution": {
     "iopub.execute_input": "2024-07-16T14:49:05.344395Z",
     "iopub.status.busy": "2024-07-16T14:49:05.343997Z",
     "iopub.status.idle": "2024-07-16T14:49:05.351485Z",
     "shell.execute_reply": "2024-07-16T14:49:05.350375Z"
    },
    "papermill": {
     "duration": 0.035083,
     "end_time": "2024-07-16T14:49:05.353803",
     "exception": false,
     "start_time": "2024-07-16T14:49:05.318720",
     "status": "completed"
    },
    "tags": []
   },
   "outputs": [
    {
     "data": {
      "text/plain": [
       "{'C': 1, 'gamma': 0.01, 'kernel': 'rbf'}"
      ]
     },
     "execution_count": 66,
     "metadata": {},
     "output_type": "execute_result"
    }
   ],
   "source": [
    "grid.best_params_"
   ]
  },
  {
   "cell_type": "code",
   "execution_count": 67,
   "id": "bba99672",
   "metadata": {
    "execution": {
     "iopub.execute_input": "2024-07-16T14:49:05.405070Z",
     "iopub.status.busy": "2024-07-16T14:49:05.404634Z",
     "iopub.status.idle": "2024-07-16T14:49:05.413138Z",
     "shell.execute_reply": "2024-07-16T14:49:05.411957Z"
    },
    "papermill": {
     "duration": 0.037549,
     "end_time": "2024-07-16T14:49:05.415702",
     "exception": false,
     "start_time": "2024-07-16T14:49:05.378153",
     "status": "completed"
    },
    "tags": []
   },
   "outputs": [
    {
     "data": {
      "text/html": [
       "<style>#sk-container-id-8 {color: black;background-color: white;}#sk-container-id-8 pre{padding: 0;}#sk-container-id-8 div.sk-toggleable {background-color: white;}#sk-container-id-8 label.sk-toggleable__label {cursor: pointer;display: block;width: 100%;margin-bottom: 0;padding: 0.3em;box-sizing: border-box;text-align: center;}#sk-container-id-8 label.sk-toggleable__label-arrow:before {content: \"▸\";float: left;margin-right: 0.25em;color: #696969;}#sk-container-id-8 label.sk-toggleable__label-arrow:hover:before {color: black;}#sk-container-id-8 div.sk-estimator:hover label.sk-toggleable__label-arrow:before {color: black;}#sk-container-id-8 div.sk-toggleable__content {max-height: 0;max-width: 0;overflow: hidden;text-align: left;background-color: #f0f8ff;}#sk-container-id-8 div.sk-toggleable__content pre {margin: 0.2em;color: black;border-radius: 0.25em;background-color: #f0f8ff;}#sk-container-id-8 input.sk-toggleable__control:checked~div.sk-toggleable__content {max-height: 200px;max-width: 100%;overflow: auto;}#sk-container-id-8 input.sk-toggleable__control:checked~label.sk-toggleable__label-arrow:before {content: \"▾\";}#sk-container-id-8 div.sk-estimator input.sk-toggleable__control:checked~label.sk-toggleable__label {background-color: #d4ebff;}#sk-container-id-8 div.sk-label input.sk-toggleable__control:checked~label.sk-toggleable__label {background-color: #d4ebff;}#sk-container-id-8 input.sk-hidden--visually {border: 0;clip: rect(1px 1px 1px 1px);clip: rect(1px, 1px, 1px, 1px);height: 1px;margin: -1px;overflow: hidden;padding: 0;position: absolute;width: 1px;}#sk-container-id-8 div.sk-estimator {font-family: monospace;background-color: #f0f8ff;border: 1px dotted black;border-radius: 0.25em;box-sizing: border-box;margin-bottom: 0.5em;}#sk-container-id-8 div.sk-estimator:hover {background-color: #d4ebff;}#sk-container-id-8 div.sk-parallel-item::after {content: \"\";width: 100%;border-bottom: 1px solid gray;flex-grow: 1;}#sk-container-id-8 div.sk-label:hover label.sk-toggleable__label {background-color: #d4ebff;}#sk-container-id-8 div.sk-serial::before {content: \"\";position: absolute;border-left: 1px solid gray;box-sizing: border-box;top: 0;bottom: 0;left: 50%;z-index: 0;}#sk-container-id-8 div.sk-serial {display: flex;flex-direction: column;align-items: center;background-color: white;padding-right: 0.2em;padding-left: 0.2em;position: relative;}#sk-container-id-8 div.sk-item {position: relative;z-index: 1;}#sk-container-id-8 div.sk-parallel {display: flex;align-items: stretch;justify-content: center;background-color: white;position: relative;}#sk-container-id-8 div.sk-item::before, #sk-container-id-8 div.sk-parallel-item::before {content: \"\";position: absolute;border-left: 1px solid gray;box-sizing: border-box;top: 0;bottom: 0;left: 50%;z-index: -1;}#sk-container-id-8 div.sk-parallel-item {display: flex;flex-direction: column;z-index: 1;position: relative;background-color: white;}#sk-container-id-8 div.sk-parallel-item:first-child::after {align-self: flex-end;width: 50%;}#sk-container-id-8 div.sk-parallel-item:last-child::after {align-self: flex-start;width: 50%;}#sk-container-id-8 div.sk-parallel-item:only-child::after {width: 0;}#sk-container-id-8 div.sk-dashed-wrapped {border: 1px dashed gray;margin: 0 0.4em 0.5em 0.4em;box-sizing: border-box;padding-bottom: 0.4em;background-color: white;}#sk-container-id-8 div.sk-label label {font-family: monospace;font-weight: bold;display: inline-block;line-height: 1.2em;}#sk-container-id-8 div.sk-label-container {text-align: center;}#sk-container-id-8 div.sk-container {/* jupyter's `normalize.less` sets `[hidden] { display: none; }` but bootstrap.min.css set `[hidden] { display: none !important; }` so we also need the `!important` here to be able to override the default hidden behavior on the sphinx rendered scikit-learn.org. See: https://github.com/scikit-learn/scikit-learn/issues/21755 */display: inline-block !important;position: relative;}#sk-container-id-8 div.sk-text-repr-fallback {display: none;}</style><div id=\"sk-container-id-8\" class=\"sk-top-container\"><div class=\"sk-text-repr-fallback\"><pre>SVC(C=1, gamma=0.01)</pre><b>In a Jupyter environment, please rerun this cell to show the HTML representation or trust the notebook. <br />On GitHub, the HTML representation is unable to render, please try loading this page with nbviewer.org.</b></div><div class=\"sk-container\" hidden><div class=\"sk-item\"><div class=\"sk-estimator sk-toggleable\"><input class=\"sk-toggleable__control sk-hidden--visually\" id=\"sk-estimator-id-10\" type=\"checkbox\" checked><label for=\"sk-estimator-id-10\" class=\"sk-toggleable__label sk-toggleable__label-arrow\">SVC</label><div class=\"sk-toggleable__content\"><pre>SVC(C=1, gamma=0.01)</pre></div></div></div></div></div>"
      ],
      "text/plain": [
       "SVC(C=1, gamma=0.01)"
      ]
     },
     "execution_count": 67,
     "metadata": {},
     "output_type": "execute_result"
    }
   ],
   "source": [
    "grid.best_estimator_"
   ]
  },
  {
   "cell_type": "code",
   "execution_count": 68,
   "id": "bd93466d",
   "metadata": {
    "execution": {
     "iopub.execute_input": "2024-07-16T14:49:05.466372Z",
     "iopub.status.busy": "2024-07-16T14:49:05.465963Z",
     "iopub.status.idle": "2024-07-16T14:49:05.474010Z",
     "shell.execute_reply": "2024-07-16T14:49:05.472715Z"
    },
    "papermill": {
     "duration": 0.036423,
     "end_time": "2024-07-16T14:49:05.476558",
     "exception": false,
     "start_time": "2024-07-16T14:49:05.440135",
     "status": "completed"
    },
    "tags": []
   },
   "outputs": [],
   "source": [
    "prediction_grid=grid.predict(X_test)"
   ]
  },
  {
   "cell_type": "code",
   "execution_count": 69,
   "id": "742bb8a9",
   "metadata": {
    "execution": {
     "iopub.execute_input": "2024-07-16T14:49:05.528400Z",
     "iopub.status.busy": "2024-07-16T14:49:05.528009Z",
     "iopub.status.idle": "2024-07-16T14:49:05.544118Z",
     "shell.execute_reply": "2024-07-16T14:49:05.542969Z"
    },
    "papermill": {
     "duration": 0.045303,
     "end_time": "2024-07-16T14:49:05.546799",
     "exception": false,
     "start_time": "2024-07-16T14:49:05.501496",
     "status": "completed"
    },
    "tags": []
   },
   "outputs": [
    {
     "name": "stdout",
     "output_type": "stream",
     "text": [
      "              precision    recall  f1-score   support\n",
      "\n",
      "           0       0.98      1.00      0.99        64\n",
      "           1       1.00      0.99      0.99        86\n",
      "\n",
      "    accuracy                           0.99       150\n",
      "   macro avg       0.99      0.99      0.99       150\n",
      "weighted avg       0.99      0.99      0.99       150\n",
      "\n",
      "[[64  0]\n",
      " [ 1 85]]\n"
     ]
    }
   ],
   "source": [
    "print(classification_report(y_test,prediction_grid))\n",
    "print(confusion_matrix(y_test,prediction_grid))"
   ]
  },
  {
   "cell_type": "code",
   "execution_count": null,
   "id": "f077a3c8",
   "metadata": {
    "papermill": {
     "duration": 0.025135,
     "end_time": "2024-07-16T14:49:05.596432",
     "exception": false,
     "start_time": "2024-07-16T14:49:05.571297",
     "status": "completed"
    },
    "tags": []
   },
   "outputs": [],
   "source": []
  }
 ],
 "metadata": {
  "kaggle": {
   "accelerator": "none",
   "dataSources": [
    {
     "datasetId": 5347313,
     "sourceId": 8891173,
     "sourceType": "datasetVersion"
    }
   ],
   "dockerImageVersionId": 30746,
   "isGpuEnabled": false,
   "isInternetEnabled": false,
   "language": "python",
   "sourceType": "notebook"
  },
  "kernelspec": {
   "display_name": "Python 3 (ipykernel)",
   "language": "python",
   "name": "python3"
  },
  "language_info": {
   "codemirror_mode": {
    "name": "ipython",
    "version": 3
   },
   "file_extension": ".py",
   "mimetype": "text/x-python",
   "name": "python",
   "nbconvert_exporter": "python",
   "pygments_lexer": "ipython3",
   "version": "3.12.4"
  },
  "papermill": {
   "default_parameters": {},
   "duration": 21.754728,
   "end_time": "2024-07-16T14:49:06.343299",
   "environment_variables": {},
   "exception": null,
   "input_path": "__notebook__.ipynb",
   "output_path": "__notebook__.ipynb",
   "parameters": {},
   "start_time": "2024-07-16T14:48:44.588571",
   "version": "2.5.0"
  }
 },
 "nbformat": 4,
 "nbformat_minor": 5
}
